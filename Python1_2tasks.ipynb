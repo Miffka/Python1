{
 "cells": [
  {
   "cell_type": "code",
   "execution_count": 1,
   "metadata": {
    "collapsed": false
   },
   "outputs": [
    {
     "name": "stdout",
     "output_type": "stream",
     "text": [
      "1\n",
      "1\n"
     ]
    }
   ],
   "source": [
    "#материал этой недели - циклы, строки и списки\n",
    "#классическая задача - поиск минимума в списке\n",
    "a = [int(i) for i in input().split()]\n",
    "min = a[0]\n",
    "for j in a :\n",
    "    if (j < min) :\n",
    "        min = j\n",
    "print(min)"
   ]
  },
  {
   "cell_type": "code",
   "execution_count": 2,
   "metadata": {
    "collapsed": false
   },
   "outputs": [
    {
     "name": "stdout",
     "output_type": "stream",
     "text": [
      "2 4 5\n"
     ]
    }
   ],
   "source": [
    "#рисуем поле для сапера - часть 1\n",
    "m, n, k = [int(i) for i in input().split()] #задаем поле: первая - строки, вторая - столбцы, третья - мины\n",
    "#mines = [[int(j) for j in input().split()] for i in range(field[2])] #генерируем массив координат мин\n",
    "#print(mines)\n"
   ]
  },
  {
   "cell_type": "code",
   "execution_count": 3,
   "metadata": {
    "collapsed": false
   },
   "outputs": [
    {
     "name": "stdout",
     "output_type": "stream",
     "text": [
      "2 2\n",
      "1 1\n",
      "1 2\n",
      "2 3\n"
     ]
    },
    {
     "ename": "IndexError",
     "evalue": "list assignment index out of range",
     "output_type": "error",
     "traceback": [
      "\u001b[0;31m---------------------------------------------------------------------------\u001b[0m",
      "\u001b[0;31mIndexError\u001b[0m                                Traceback (most recent call last)",
      "\u001b[0;32m<ipython-input-3-a96c39b45632>\u001b[0m in \u001b[0;36m<module>\u001b[0;34m()\u001b[0m\n\u001b[1;32m      6\u001b[0m \u001b[1;32mfor\u001b[0m \u001b[0mi\u001b[0m \u001b[1;32min\u001b[0m \u001b[0mrange\u001b[0m\u001b[1;33m(\u001b[0m\u001b[0mk\u001b[0m\u001b[1;33m)\u001b[0m \u001b[1;33m:\u001b[0m\u001b[1;33m\u001b[0m\u001b[0m\n\u001b[1;32m      7\u001b[0m     \u001b[0mrow\u001b[0m\u001b[1;33m,\u001b[0m \u001b[0mcol\u001b[0m \u001b[1;33m=\u001b[0m \u001b[1;33m(\u001b[0m\u001b[0mint\u001b[0m\u001b[1;33m(\u001b[0m\u001b[0mi\u001b[0m\u001b[1;33m)\u001b[0m \u001b[1;33m-\u001b[0m \u001b[1;36m1\u001b[0m \u001b[1;32mfor\u001b[0m \u001b[0mi\u001b[0m \u001b[1;32min\u001b[0m \u001b[0minput\u001b[0m\u001b[1;33m(\u001b[0m\u001b[1;33m)\u001b[0m\u001b[1;33m.\u001b[0m\u001b[0msplit\u001b[0m\u001b[1;33m(\u001b[0m\u001b[1;33m)\u001b[0m\u001b[1;33m)\u001b[0m\u001b[1;33m\u001b[0m\u001b[0m\n\u001b[0;32m----> 8\u001b[0;31m     \u001b[0ma\u001b[0m\u001b[1;33m[\u001b[0m\u001b[0mrow\u001b[0m\u001b[1;33m]\u001b[0m\u001b[1;33m[\u001b[0m\u001b[0mcol\u001b[0m\u001b[1;33m]\u001b[0m \u001b[1;33m=\u001b[0m \u001b[1;33m-\u001b[0m\u001b[1;36m1\u001b[0m\u001b[1;33m\u001b[0m\u001b[0m\n\u001b[0m\u001b[1;32m      9\u001b[0m \u001b[0mprint\u001b[0m\u001b[1;33m(\u001b[0m\u001b[0ma\u001b[0m\u001b[1;33m)\u001b[0m\u001b[1;33m\u001b[0m\u001b[0m\n",
      "\u001b[0;31mIndexError\u001b[0m: list assignment index out of range"
     ]
    }
   ],
   "source": [
    "#рисуем поле для сапера - часть 2\n",
    "a = [[0 for j in range(m)] for i in range(n)] #инициализируем массив координат\n",
    "#print(field_coord)\n",
    "\n",
    "#массив координат мин мы инициализируем по-другому\n",
    "for i in range(k) :\n",
    "    row, col = (int(i) - 1 for i in input().split())\n",
    "    a[row][col] = -1\n",
    "print(a)"
   ]
  },
  {
   "cell_type": "code",
   "execution_count": null,
   "metadata": {
    "collapsed": false
   },
   "outputs": [],
   "source": [
    "#пишем таблицу и заполняем ее числами в зависимости от того, есть ли в ячейке или поблизости от нее мина\n",
    "for i in range(n) :\n",
    "    for j in range(m) :\n",
    "        if a[i][j] == 0:\n",
    "            for di in range(-1, 2):\n",
    "                for dj in range(-1, 2):\n",
    "                    ai = i + di\n",
    "                    aj = j + dj\n",
    "                    if 0 <= ai <= m and 0 <= aj <= n and a[ai][aj] == -1 :\n",
    "                        a[i][j] += 1\n",
    "print(a)"
   ]
  },
  {
   "cell_type": "code",
   "execution_count": null,
   "metadata": {
    "collapsed": false
   },
   "outputs": [],
   "source": [
    "#преобразуем поле в привычный вид\n",
    "for i in range(n) :\n",
    "    for j in range(m) :\n",
    "        if a[i][j] == -1 :\n",
    "            print(\"*\", end = \"\")\n",
    "        elif a[i][j] == 0:\n",
    "            print(\".\", end = \"\")\n",
    "        else:\n",
    "            print(a[i][j], end = \"\")\n",
    "    print()"
   ]
  },
  {
   "cell_type": "code",
   "execution_count": null,
   "metadata": {
    "collapsed": false
   },
   "outputs": [],
   "source": [
    "#задача 1 - считываем числа, пока сумма не станет равной нулю\n",
    "task1 = []\n",
    "i = 0\n",
    "sum = 0\n",
    "while True:\n",
    "    task1.append(int(input()))\n",
    "    sum = sum + task1[i]\n",
    "    if sum == 0 :\n",
    "        break\n",
    "    i += 1\n",
    "sum_sq = 0\n",
    "for j in task1 :\n",
    "    sum_sq = sum_sq + j**2\n",
    "print(sum_sq)"
   ]
  },
  {
   "cell_type": "code",
   "execution_count": null,
   "metadata": {
    "collapsed": false
   },
   "outputs": [],
   "source": [
    "#задача 2 - вывод последовательности чисел\n",
    "n = int(input()) #вводим число\n",
    "'''задачу можно решить нормально и ебануто\n",
    "конечно же, мы выберем второй вариант'''\n",
    "a = [] #задаем пустой список\n",
    "i = 1 #и счетчик\n",
    "while i < n+1: #в этом цикле\n",
    "    for j in range (i) : #мы вписываем \n",
    "        a.append(i) #значения от 1 до n в список a i раз\n",
    "    i += 1\n",
    "#print(a) #таким образом, генерируется полная последовательность из чисел от 1 до n, каждое из которых повторяется i раз\n",
    "i = 0\n",
    "for i in range(n): #а потом мы просто выводим первые n чисел\n",
    "    print(a[i], end = \" \")\n",
    "\"\"\"крайне хреновое решение, потому что памяти расходуется на n(n+1)/2 чисел, а выводится всего n\"\"\""
   ]
  },
  {
   "cell_type": "code",
   "execution_count": null,
   "metadata": {
    "collapsed": false
   },
   "outputs": [],
   "source": [
    "#задача 2 - вывод последовательности чисел - решение с прерыванием экономия памяти епта!\n",
    "n = int(input()) #вводим число\n",
    "a = [] #задаем пустой список\n",
    "i = 1 #и счетчик\n",
    "for i in range(n+1): #в этом цикле\n",
    "    for j in range (i) : #мы вписываем \n",
    "        if len(a) >= n : #или прерываем выполнение цикла в нужный момент\n",
    "            break\n",
    "        a.append(i) #значения от 1 до n в список a i раз\n",
    "        #print(a[len(a)-1], end = \" \")\n",
    "    #i += 1\n",
    "#print(a) #таким образом, генерируется полная последовательность из чисел от 1 до n, каждое из которых повторяется i раз\n",
    "i = 0\n",
    "for i in range(n): #а потом мы просто выводим первые n чисел\n",
    "    print(a[i], end = \" \")\n",
    "\"\"\"интересно, что нет разницы между случаем, когда мы печатаем результат сразу в цикле, и случаем, когда мы выводим результат\n",
    "в дополнительном цикле уже после того, как первый цикл полностью пробежит\n",
    "точно так же, в данном случае не видно разницы между циклами for и while\"\"\""
   ]
  },
  {
   "cell_type": "code",
   "execution_count": 27,
   "metadata": {
    "collapsed": false
   },
   "outputs": [
    {
     "name": "stdout",
     "output_type": "stream",
     "text": [
      "9 5 3\n",
      "0 7 -1\n",
      "-5 2 9\n",
      "end\n",
      "3 21 22 \n",
      "10 6 19 \n",
      "20 16 -1 \n"
     ]
    }
   ],
   "source": [
    "#задача 4\n",
    "task4 = []\n",
    "while True :\n",
    "    task41 = [str(i) for i in input().split()]\n",
    "    if (task41 != [\"end\"]) :\n",
    "        task4.append(task41)\n",
    "    else :\n",
    "        break\n",
    "#print(task4)\n",
    "for i in range(len(task4)) : #сначала идем по строкам\n",
    "    #print(len(task4))\n",
    "    for j in range(len(task4[i])) : #теперь идем по столбцам\n",
    "        #print(len(task4[i]))\n",
    "        if (i == len(task4) - 1) : #проверяем, находится ли элемент в крайней строке\n",
    "            ai = 0 #если да, заменяем индекс на 0\n",
    "        else:\n",
    "            ai = i + 1 #если нет, просто прибавляем к индексу единицу\n",
    "        if (j == len(task4[i]) - 1) :\n",
    "            aj = 0\n",
    "        else:\n",
    "            aj = j + 1\n",
    "        k = int(task4[i-1][j]) + int(task4[i][j-1]) + int(task4[i][aj]) + int(task4[ai][j])\n",
    "        print(k, end = \" \")\n",
    "        if (j == len(task4[i]) - 1):\n",
    "            print()"
   ]
  },
  {
   "cell_type": "code",
   "execution_count": 31,
   "metadata": {
    "collapsed": false
   },
   "outputs": [
    {
     "name": "stdout",
     "output_type": "stream",
     "text": [
      "5\n",
      "5\n",
      "1 2 3 4 5 \n",
      "16 17 18 19 6 \n",
      "15 24 25 20 7 \n",
      "14 23 22 21 8 \n",
      "13 12 11 10 9 \n"
     ]
    }
   ],
   "source": [
    "#задача 5 - закручиваем таблицу в спираль\n",
    "n = int(input())\n",
    "m=[[0,0] for i in range((n+1)*(n+1))]\n",
    "a=[[1 for i in range(n)] for j in range(n)]\n",
    "p=0\n",
    "h=0\n",
    "\n",
    "while h<n*n-1:\n",
    "        for i in range(p,n-p):\n",
    "                a[p][i]=0\n",
    "                m[h][0]=p\n",
    "                m[h][1]=i\n",
    "                h+=1\n",
    "        for i in range(p+1,n-p):\n",
    "                a[i][n-1-p]=0\n",
    "                m[h][0]=i\n",
    "                m[h][1]=n-1-p\n",
    "                h+=1\n",
    "\n",
    "        for i in range(p,n-p-1)[::-1]:\n",
    "                a[p][i]=0\n",
    "                m[h][0]=n-1-p\n",
    "                m[h][1]=i\n",
    "                h+=1\n",
    "\n",
    "        for i in range(p+1,n-1-p)[::-1]:\n",
    "                a[i][n-1-p]=0\n",
    "                m[h][0]=i\n",
    "                m[h][1]=p\n",
    "                h+=1\n",
    "        p+=1\n",
    "\n",
    "if n%2==1:\n",
    "        m[h][0]=n//2\n",
    "        m[h][1]=n//2\n",
    "\n",
    "for i in range(n*n):\n",
    "        a[m[i][0]][m[i][1]]=i+1\n",
    "\n",
    "for i in range(n):\n",
    "        for j in range(n):\n",
    "                print(a[i][j],end=' ')\n",
    "        print()"
   ]
  }
 ],
 "metadata": {
  "anaconda-cloud": {},
  "kernelspec": {
   "display_name": "Python [conda root]",
   "language": "python",
   "name": "conda-root-py"
  },
  "language_info": {
   "codemirror_mode": {
    "name": "ipython",
    "version": 3
   },
   "file_extension": ".py",
   "mimetype": "text/x-python",
   "name": "python",
   "nbconvert_exporter": "python",
   "pygments_lexer": "ipython3",
   "version": "3.5.2"
  }
 },
 "nbformat": 4,
 "nbformat_minor": 1
}
