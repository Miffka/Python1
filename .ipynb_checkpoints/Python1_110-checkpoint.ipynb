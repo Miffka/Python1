{
 "cells": [
  {
   "cell_type": "code",
   "execution_count": 1,
   "metadata": {
    "collapsed": false
   },
   "outputs": [
    {
     "name": "stdout",
     "output_type": "stream",
     "text": [
      "5\n",
      "Четное\n",
      "5\n",
      "Числа равны\n",
      "Числа не равны\n"
     ]
    }
   ],
   "source": [
    "x = int(input())\n",
    "if x & 2 == 0 :\n",
    "    print(\"Четное\")\n",
    "else:\n",
    "    print(\"Нечетное\")\n",
    "\n",
    "y = int(input())\n",
    "x == y if print(\"Числа равны\") else print(\"Числа не равны\")"
   ]
  },
  {
   "cell_type": "code",
   "execution_count": 4,
   "metadata": {
    "collapsed": false
   },
   "outputs": [
    {
     "name": "stdout",
     "output_type": "stream",
     "text": [
      "7\n"
     ]
    }
   ],
   "source": [
    "a = 4\n",
    "b = 7\n",
    "m = a\n",
    "if b > m:\n",
    "    m = b\n",
    "print(m)"
   ]
  },
  {
   "cell_type": "code",
   "execution_count": 6,
   "metadata": {
    "collapsed": false
   },
   "outputs": [
    {
     "name": "stdout",
     "output_type": "stream",
     "text": [
      "7\n",
      "15\n",
      "15\n",
      "Это нормально\n"
     ]
    }
   ],
   "source": [
    "#задача 1 - спящая Аня\n",
    "A = int(input()) #вводим необходимое число часов\n",
    "B = int(input()) #вводим пороговое значение пересыпа\n",
    "H = int(input()) #вводим текущее число часов\n",
    "\n",
    "if A <= H <= B :\n",
    "    print(\"Это нормально\")\n",
    "elif H < A :\n",
    "    print(\"Недосып\")\n",
    "elif H > B :\n",
    "    print(\"Пересып\")"
   ]
  },
  {
   "cell_type": "code",
   "execution_count": null,
   "metadata": {
    "collapsed": true
   },
   "outputs": [],
   "source": [
    "#задача 2 - високосный год\n",
    "year = int(input()) #вводим год\n"
   ]
  }
 ],
 "metadata": {
  "kernelspec": {
   "display_name": "Python [default]",
   "language": "python",
   "name": "python3"
  },
  "language_info": {
   "codemirror_mode": {
    "name": "ipython",
    "version": 3
   },
   "file_extension": ".py",
   "mimetype": "text/x-python",
   "name": "python",
   "nbconvert_exporter": "python",
   "pygments_lexer": "ipython3",
   "version": "3.5.2"
  }
 },
 "nbformat": 4,
 "nbformat_minor": 1
}
