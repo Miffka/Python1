{
 "cells": [
  {
   "cell_type": "code",
   "execution_count": 2,
   "metadata": {
    "collapsed": false
   },
   "outputs": [
    {
     "name": "stdout",
     "output_type": "stream",
     "text": [
      "5 4 3 2 1 "
     ]
    }
   ],
   "source": [
    "#цикл while\n",
    "a = 5\n",
    "while a > 0:\n",
    "    print(a, end = \" \") #выводим числа в одну строку!!!!!\n",
    "    a -= 1\n"
   ]
  },
  {
   "cell_type": "code",
   "execution_count": 3,
   "metadata": {
    "collapsed": false
   },
   "outputs": [
    {
     "name": "stdout",
     "output_type": "stream",
     "text": [
      "13\n"
     ]
    }
   ],
   "source": [
    "#задача 1\n",
    "i = 0\n",
    "while i <= 10:\n",
    "    i = i + 1\n",
    "    if i > 7:\n",
    "        i = i + 2\n",
    "print(i)"
   ]
  },
  {
   "cell_type": "code",
   "execution_count": 4,
   "metadata": {
    "collapsed": false
   },
   "outputs": [
    {
     "name": "stdout",
     "output_type": "stream",
     "text": [
      "0\n",
      "1\n",
      "2\n",
      "3\n",
      "4\n",
      "5\n",
      "6\n",
      "7\n",
      "10\n"
     ]
    }
   ],
   "source": [
    "#задача 2\n",
    "i = 0\n",
    "while i <= 10:\n",
    "    print(i)\n",
    "    i = i + 1\n",
    "    if i > 7:\n",
    "        i = i + 2"
   ]
  },
  {
   "cell_type": "code",
   "execution_count": 5,
   "metadata": {
    "collapsed": false
   },
   "outputs": [
    {
     "name": "stdout",
     "output_type": "stream",
     "text": [
      "*\n",
      "**\n",
      "*\n",
      "*\n",
      "**\n",
      "*\n",
      "***\n",
      "*\n",
      "**\n",
      "***\n"
     ]
    }
   ],
   "source": [
    "#задача 3\n",
    "i = 0\n",
    "while i < 5:\n",
    "    print('*')\n",
    "    if i % 2 == 0:\n",
    "        print('**')\n",
    "    if i > 2:\n",
    "        print('***')\n",
    "    i = i + 1"
   ]
  },
  {
   "cell_type": "code",
   "execution_count": 7,
   "metadata": {
    "collapsed": false
   },
   "outputs": [
    {
     "name": "stdout",
     "output_type": "stream",
     "text": [
      "5 7 9 11 13 15 17 19 21 23 25 27 29 31 33 35 37 39 41 43 45 47 49 51 53 55 "
     ]
    }
   ],
   "source": [
    "#все нечетные числа от 5 до 55\n",
    "a = 5\n",
    "while a <= 55 :\n",
    "    print(a, end = \" \")\n",
    "    a += 2"
   ]
  },
  {
   "cell_type": "code",
   "execution_count": 8,
   "metadata": {
    "collapsed": false
   },
   "outputs": [
    {
     "name": "stdout",
     "output_type": "stream",
     "text": [
      "*\n",
      "**\n",
      "***\n",
      "****\n",
      "*****\n",
      "******\n"
     ]
    }
   ],
   "source": [
    "#выводим треугольник из звездочек\n",
    "a = 0\n",
    "while a < 6 :\n",
    "    print((a + 1)*\"*\")\n",
    "    a += 1"
   ]
  },
  {
   "cell_type": "code",
   "execution_count": 10,
   "metadata": {
    "collapsed": false
   },
   "outputs": [
    {
     "name": "stdout",
     "output_type": "stream",
     "text": [
      "11\n",
      "*\n",
      "**\n",
      "***\n",
      "****\n",
      "*****\n",
      "******\n",
      "*******\n",
      "********\n",
      "*********\n",
      "**********\n",
      "***********\n"
     ]
    }
   ],
   "source": [
    "#обходимся без умножения строки на число\n",
    "n = int(input())\n",
    "stars = \"*\"\n",
    "while len(stars) <= n: #условием цикла является ограничение длины строки\n",
    "    print(stars)\n",
    "    stars += \"*\""
   ]
  },
  {
   "cell_type": "code",
   "execution_count": 12,
   "metadata": {
    "collapsed": false
   },
   "outputs": [
    {
     "name": "stdout",
     "output_type": "stream",
     "text": [
      "1\n",
      "5\n",
      "15\n"
     ]
    }
   ],
   "source": [
    "#сумма чисел от a до b\n",
    "a = int(input()) #вводим первое число\n",
    "b = int(input()) #вводим второе число\n",
    "s = 0\n",
    "i = a\n",
    "while i <= b :\n",
    "    s += i\n",
    "    i += 1\n",
    "print(s)"
   ]
  },
  {
   "cell_type": "code",
   "execution_count": 16,
   "metadata": {
    "collapsed": false
   },
   "outputs": [
    {
     "name": "stdout",
     "output_type": "stream",
     "text": [
      "5\n",
      "-3\n",
      "8\n",
      "4\n",
      "0\n",
      "14\n"
     ]
    }
   ],
   "source": [
    "#задача 4 - сумма введенных чисел\n",
    "a = int(input()) #вводим первое число\n",
    "sum = a #заводим переменную, в которую будем складывать сумму\n",
    "while a != 0 :\n",
    "    a = int(input()) #вводим числа в цикле\n",
    "    sum += a #прибавляем к сумме то, что было введено\n",
    "print(sum)"
   ]
  },
  {
   "cell_type": "code",
   "execution_count": 23,
   "metadata": {
    "collapsed": false
   },
   "outputs": [
    {
     "name": "stdout",
     "output_type": "stream",
     "text": [
      "16\n",
      "12\n",
      "48\n"
     ]
    }
   ],
   "source": [
    "#задача 5 - наименьшее общее кратное\n",
    "#алгоритм - просто спишем решение из ответов, к черту алгоритмы\n",
    "acopy = a = int(input()) #задаем первое число и тут же копируем его\n",
    "bcopy = b = int(input()) #задаем второе число и тоже копируем его\n",
    "#ищем наибольший общий делитель\n",
    "while a!=b: #до тех пор, пока а не равно b\n",
    "    if a>b: #проверяем, больше ли а, чем b\n",
    "        a -= b # если да, то вычитаем b из a, разность записываем в a\n",
    "    else:\n",
    "        b-=a # иначе вычитаем а из b, разность записываем в b\n",
    "    #print(a , b)\n",
    "print (acopy*bcopy//a) #а теперь выведем наименьшее общее кратное\n",
    "#получили очень долгое итерирование"
   ]
  }
 ],
 "metadata": {
  "kernelspec": {
   "display_name": "Python [conda root]",
   "language": "python",
   "name": "conda-root-py"
  },
  "language_info": {
   "codemirror_mode": {
    "name": "ipython",
    "version": 3
   },
   "file_extension": ".py",
   "mimetype": "text/x-python",
   "name": "python",
   "nbconvert_exporter": "python",
   "pygments_lexer": "ipython3",
   "version": "3.5.2"
  }
 },
 "nbformat": 4,
 "nbformat_minor": 1
}
