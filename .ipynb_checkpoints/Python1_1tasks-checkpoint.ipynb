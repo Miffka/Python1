{
 "cells": [
  {
   "cell_type": "code",
   "execution_count": 1,
   "metadata": {
    "collapsed": false
   },
   "outputs": [
    {
     "name": "stdout",
     "output_type": "stream",
     "text": [
      "3\n",
      "4\n",
      "5\n",
      "6.0\n"
     ]
    }
   ],
   "source": [
    "#задача 1 - формула Герона\n",
    "a = int(input()) #вводим первое число\n",
    "b = int(input()) #вводим второе число\n",
    "c = int(input()) #вводим третье число\n",
    "p = (a + b + c)/2\n",
    "print((p*(p-a)*(p-b)*(p-c))**0.5)"
   ]
  },
  {
   "cell_type": "code",
   "execution_count": 12,
   "metadata": {
    "collapsed": false
   },
   "outputs": [
    {
     "name": "stdout",
     "output_type": "stream",
     "text": [
      "18\n",
      "False\n"
     ]
    }
   ],
   "source": [
    "#задача 2 - интервалы\n",
    "a = int(input())\n",
    "if (-15 < a <= 12) | (14 < a < 17) | (19 <= a) :\n",
    "    print(True)\n",
    "else : print(False)"
   ]
  },
  {
   "cell_type": "code",
   "execution_count": 17,
   "metadata": {
    "collapsed": false
   },
   "outputs": [
    {
     "name": "stdout",
     "output_type": "stream",
     "text": [
      "5\n",
      "0\n",
      "mod\n",
      "Деление на 0!\n"
     ]
    }
   ],
   "source": [
    "#задача 3 - калькулятор\n",
    "a = float(input()) #вводим первое число\n",
    "b = float(input()) #вводим второе число\n",
    "c = input() #вводим операцию\n",
    "\n",
    "if c == \"+\" : print(a+b)\n",
    "elif c == \"-\" : print(a-b)\n",
    "elif c == \"*\" : print(a*b)\n",
    "elif c == \"/\" :\n",
    "    if b == 0 : print(\"Деление на 0!\")\n",
    "    else : print(a/b)\n",
    "elif c == \"mod\" : \n",
    "    if b == 0 : print(\"Деление на 0!\")\n",
    "    else : print(a%b)\n",
    "elif c == \"pow\" : print(a**b)\n",
    "elif c == \"div\" : \n",
    "    if b == 0 : print(\"Деление на 0!\")\n",
    "    else : print(a//b)\n",
    "    "
   ]
  },
  {
   "cell_type": "code",
   "execution_count": 21,
   "metadata": {
    "collapsed": false
   },
   "outputs": [
    {
     "name": "stdout",
     "output_type": "stream",
     "text": [
      "треугольник\n",
      "5\n",
      "4\n",
      "9\n",
      "0.0\n"
     ]
    }
   ],
   "source": [
    "#задача 4 - вычисление площади фигуры в зависимости от фигуры\n",
    "room = input() #вводим форму комнаты\n",
    "if room == \"треугольник\" :\n",
    "    a = float(input()) #вводим размеры \n",
    "    b = float(input())\n",
    "    c = float(input())\n",
    "    p = (a + b + c)/2\n",
    "    print((p*(p-a)*(p-b)*(p-c))**0.5) #и вычисляем площадь по формуле Герона\n",
    "elif room == \"прямоугольник\" :\n",
    "    a = float(input())\n",
    "    b = float(input())\n",
    "    print(a*b)\n",
    "elif room == \"круг\" :\n",
    "    r = float(input())\n",
    "    print(3.14*r**2)"
   ]
  },
  {
   "cell_type": "code",
   "execution_count": 9,
   "metadata": {
    "collapsed": false
   },
   "outputs": [
    {
     "name": "stdout",
     "output_type": "stream",
     "text": [
      "5\n",
      "5\n",
      "7\n",
      "7 \n",
      " 5 \n",
      " 5\n"
     ]
    }
   ],
   "source": [
    "#задача 4 - сравнение трех чисел\n",
    "a = int(input())\n",
    "b = int(input())\n",
    "c = int(input())\n",
    "taskList = [a, b, c]\n",
    "taskList.sort() #сортируем список по возрастанию\n",
    "print(taskList[2], \"\\n\", taskList[0], \"\\n\", taskList[1])"
   ]
  },
  {
   "cell_type": "code",
   "execution_count": 74,
   "metadata": {
    "collapsed": false
   },
   "outputs": [
    {
     "name": "stdout",
     "output_type": "stream",
     "text": [
      "1\n",
      "0 first fork  1\n",
      "group 3\n",
      "1 программист\n"
     ]
    }
   ],
   "source": [
    "#задача 5 - считаем программистов\n",
    "n = int(input()) #вводим количество программистов\n",
    "if 11 <= n % 100 <= 19 : \n",
    "    #print(\"group 4\")\n",
    "    ending = \"ов\"   \n",
    "elif  n // 10 != 1 :\n",
    "    #print(n//10, \"first fork \", n%10)\n",
    "    if ((n % 10 == 0) | ( 5 <= n % 10 <= 9)) :\n",
    "        #print(\"group 1\")\n",
    "        ending = \"ов\"\n",
    "    elif 2 <= n % 10 <= 4 :\n",
    "        #print(\"group 2\")\n",
    "        ending = \"а\"\n",
    "    elif n % 10 == 1 :\n",
    "        #print(\"group 3\")\n",
    "        ending = \"\"\n",
    "print(str(n) + \" программист\" + ending)"
   ]
  },
  {
   "cell_type": "code",
   "execution_count": 79,
   "metadata": {
    "collapsed": false
   },
   "outputs": [
    {
     "name": "stdout",
     "output_type": "stream",
     "text": [
      "112254\n",
      "Обычный\n"
     ]
    }
   ],
   "source": [
    "#задача 6 - счастливый билетик\n",
    "ticket = input()\n",
    "if (int(ticket[0]) + int(ticket[1]) + int(ticket[2])) == (int(ticket[3]) + int(ticket[4]) + int(ticket[5])) :\n",
    "                                                          print(\"Счастливый\")\n",
    "else : print(\"Обычный\")"
   ]
  }
 ],
 "metadata": {
  "kernelspec": {
   "display_name": "Python [conda root]",
   "language": "python",
   "name": "conda-root-py"
  },
  "language_info": {
   "codemirror_mode": {
    "name": "ipython",
    "version": 3
   },
   "file_extension": ".py",
   "mimetype": "text/x-python",
   "name": "python",
   "nbconvert_exporter": "python",
   "pygments_lexer": "ipython3",
   "version": "3.5.2"
  }
 },
 "nbformat": 4,
 "nbformat_minor": 1
}
