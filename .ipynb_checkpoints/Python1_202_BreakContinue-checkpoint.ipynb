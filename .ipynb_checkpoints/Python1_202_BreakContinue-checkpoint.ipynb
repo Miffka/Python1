{
 "cells": [
  {
   "cell_type": "code",
   "execution_count": 9,
   "metadata": {
    "collapsed": false
   },
   "outputs": [
    {
     "name": "stdout",
     "output_type": "stream",
     "text": [
      "1 0\n",
      "1 5\n",
      "5\n",
      "578 45\n",
      "26010\n",
      "456 459 \n",
      "209304\n",
      "51 0\n",
      "0 0\n",
      "оба введенных числа ноли\n"
     ]
    }
   ],
   "source": [
    "#операторы break и continue\n",
    "#считаем 5 пар чисел и выводим их произведение\n",
    "i = 0\n",
    "while i < 5 :\n",
    "    a, b = input().split() #split разделяет введенные переменные, если они введены через пробел\n",
    "    a = int(a)\n",
    "    b = int(b)\n",
    "    if (a == 0) and (b == 0) : #если вводят два ноля\n",
    "        print(\"оба введенных числа ноли\")\n",
    "        break # цикл досрочно завершается\n",
    "    if (a == 0) or (b == 0) : #если только одно из чисел равно 0\n",
    "        continue #не считаем эту пару и переходим к следующей итерации\n",
    "    print(a*b)\n",
    "    i += 1\n",
    "    #else : print(\"Все пары чисел выведены успешно\") #если дошли до конца - цикл завершился не по условию\n"
   ]
  },
  {
   "cell_type": "code",
   "execution_count": 12,
   "metadata": {
    "collapsed": false
   },
   "outputs": [
    {
     "name": "stdout",
     "output_type": "stream",
     "text": [
      "15\n",
      "15\n",
      "6\n",
      "0 0\n"
     ]
    },
    {
     "ename": "ValueError",
     "evalue": "invalid literal for int() with base 10: '0 0'",
     "output_type": "error",
     "traceback": [
      "\u001b[0;31m---------------------------------------------------------------------------\u001b[0m",
      "\u001b[0;31mValueError\u001b[0m                                Traceback (most recent call last)",
      "\u001b[0;32m<ipython-input-12-c34cb12ecf82>\u001b[0m in \u001b[0;36m<module>\u001b[0;34m()\u001b[0m\n\u001b[1;32m      1\u001b[0m \u001b[1;31m#задача 3\u001b[0m\u001b[1;33m\u001b[0m\u001b[1;33m\u001b[0m\u001b[0m\n\u001b[1;32m      2\u001b[0m \u001b[1;32mwhile\u001b[0m \u001b[1;32mTrue\u001b[0m \u001b[1;33m:\u001b[0m \u001b[1;31m#делаем так, чтобы цикл всегда выполнялся\u001b[0m\u001b[1;33m\u001b[0m\u001b[0m\n\u001b[0;32m----> 3\u001b[0;31m     \u001b[0ma\u001b[0m \u001b[1;33m=\u001b[0m \u001b[0mint\u001b[0m\u001b[1;33m(\u001b[0m\u001b[0minput\u001b[0m\u001b[1;33m(\u001b[0m\u001b[1;33m)\u001b[0m\u001b[1;33m)\u001b[0m \u001b[1;31m#вводим целое число\u001b[0m\u001b[1;33m\u001b[0m\u001b[0m\n\u001b[0m\u001b[1;32m      4\u001b[0m     \u001b[1;32mif\u001b[0m \u001b[0ma\u001b[0m \u001b[1;33m>\u001b[0m \u001b[1;36m100\u001b[0m \u001b[1;33m:\u001b[0m \u001b[1;32mbreak\u001b[0m \u001b[1;31m# если число больше 100, прекращаем цикл\u001b[0m\u001b[1;33m\u001b[0m\u001b[0m\n\u001b[1;32m      5\u001b[0m     \u001b[1;32mif\u001b[0m \u001b[0ma\u001b[0m \u001b[1;33m<\u001b[0m \u001b[1;36m10\u001b[0m\u001b[1;33m:\u001b[0m \u001b[1;32mcontinue\u001b[0m \u001b[1;31m#если число меньше 10, не выводим его и идем в начало цикла\u001b[0m\u001b[1;33m\u001b[0m\u001b[0m\n",
      "\u001b[0;31mValueError\u001b[0m: invalid literal for int() with base 10: '0 0'"
     ]
    }
   ],
   "source": [
    "#задача 3\n",
    "while True : #делаем так, чтобы цикл всегда выполнялся\n",
    "    a = int(input()) #вводим целое число\n",
    "    if a > 100 : break # если число больше 100, прекращаем цикл\n",
    "    if a < 10: continue #если число меньше 10, не выводим его и идем в начало цикла\n",
    "    print(a) #во всех остальных случаях выводим это число"
   ]
  }
 ],
 "metadata": {
  "kernelspec": {
   "display_name": "Python [conda root]",
   "language": "python",
   "name": "conda-root-py"
  },
  "language_info": {
   "codemirror_mode": {
    "name": "ipython",
    "version": 3
   },
   "file_extension": ".py",
   "mimetype": "text/x-python",
   "name": "python",
   "nbconvert_exporter": "python",
   "pygments_lexer": "ipython3",
   "version": "3.5.2"
  }
 },
 "nbformat": 4,
 "nbformat_minor": 1
}
