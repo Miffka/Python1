{
 "cells": [
  {
   "cell_type": "code",
   "execution_count": 12,
   "metadata": {
    "collapsed": false
   },
   "outputs": [
    {
     "name": "stdout",
     "output_type": "stream",
     "text": [
      "A\n",
      "C\n",
      "CT\n",
      "A\n",
      "A T G C \n",
      "ATGC"
     ]
    }
   ],
   "source": [
    "#строки и символы\n",
    "genome = \"ATGC\"\n",
    "print(genome[0]) #первый символ с начала\n",
    "print(genome[-1]) #первый символ с конца\n",
    "print(genome[-1::-2])\n",
    "print(genome[-len(genome)]) #вновь первый символ с начала\n",
    "#строки неизменяемы\n",
    "#genome[1] = \"С\"\n",
    "for i in range(4):\n",
    "    print(genome[i], end = \" \")\n",
    "print()\n",
    "for c in genome:\n",
    "    print(c, end = \"\")"
   ]
  },
  {
   "cell_type": "code",
   "execution_count": 14,
   "metadata": {
    "collapsed": false
   },
   "outputs": [
    {
     "name": "stdout",
     "output_type": "stream",
     "text": [
      "gggtacaatgac\n",
      "2\n"
     ]
    }
   ],
   "source": [
    "#пример - сколько раз встречается цитозин\n",
    "genome = input()\n",
    "genome.lower() #приводим к нижнему регистру\n",
    "n = 0\n",
    "for c in genome:\n",
    "    if (c == \"c\") :\n",
    "        n += 1\n",
    "print(n)"
   ]
  },
  {
   "cell_type": "code",
   "execution_count": 15,
   "metadata": {
    "collapsed": false
   },
   "outputs": [
    {
     "name": "stdout",
     "output_type": "stream",
     "text": [
      "gttaccagtacagt\n",
      "0\n"
     ]
    }
   ],
   "source": [
    "genome = input()\n",
    "print(genome.count(\"c\")) #считаем количество неперескающихся вхождений подстроки с в строку genome"
   ]
  },
  {
   "cell_type": "code",
   "execution_count": 27,
   "metadata": {
    "collapsed": false
   },
   "outputs": [
    {
     "name": "stdout",
     "output_type": "stream",
     "text": [
      "ATGCC\n",
      "atgcc\n",
      "1\n",
      "3\n",
      "False\n",
      "-1\n",
      "aTGCC\n",
      "2\n"
     ]
    }
   ],
   "source": [
    "#методы строк\n",
    "s = \"aTGcc\"\n",
    "p = \"cc\"\n",
    "print(s.upper())\n",
    "print(s.lower())\n",
    "print(s.count(p))\n",
    "print(s.find(p)) #ищем индекс входа строки p\n",
    "print(\"tg\" in s) #как предыдущий, но лучше подходит для задания условий наличия подстроки в строке\n",
    "print(s.find(\"A\"))\n",
    "print(s.replace(\"c\", \"C\"))\n",
    "\n",
    "s1 = \"agTtcAGtc\"\n",
    "print(s1.upper().count(\"gt\".upper()))"
   ]
  },
  {
   "cell_type": "code",
   "execution_count": 29,
   "metadata": {
    "collapsed": false
   },
   "outputs": [
    {
     "name": "stdout",
     "output_type": "stream",
     "text": [
      "acggtgttat\n",
      "40.0\n"
     ]
    }
   ],
   "source": [
    "#задача 1 - процент GC\n",
    "task1 = input()\n",
    "count = 0\n",
    "for nucl in task1.lower() :\n",
    "    if (nucl == \"c\") or (nucl == \"g\"):\n",
    "        count += 1\n",
    "print(count/len(task1)*100)"
   ]
  },
  {
   "cell_type": "code",
   "execution_count": null,
   "metadata": {
    "collapsed": true
   },
   "outputs": [],
   "source": []
  },
  {
   "cell_type": "code",
   "execution_count": 34,
   "metadata": {
    "collapsed": false
   },
   "outputs": [
    {
     "name": "stdout",
     "output_type": "stream",
     "text": [
      "t\n",
      "ttc\n",
      "ggagct\n",
      "agct\n",
      "ttcggagc\n",
      "tcgg\n",
      "tcgaggctta\n"
     ]
    }
   ],
   "source": [
    "#взятие срезов строк\n",
    "dna = \"attcggagct\"\n",
    "print(dna[1])\n",
    "print(dna[1:4])\n",
    "print(dna[4:])\n",
    "print(dna[-4:])\n",
    "print(dna[1:-1])\n",
    "print(dna[1:-1:2])\n",
    "print(dna[::-1]) #символы в обратном порядке"
   ]
  },
  {
   "cell_type": "code",
   "execution_count": 35,
   "metadata": {
    "collapsed": false
   },
   "outputs": [
    {
     "name": "stdout",
     "output_type": "stream",
     "text": [
      "ccatggtacc\n",
      "Палиндром\n"
     ]
    }
   ],
   "source": [
    "#пример - палиндром\n",
    "dna = input()\n",
    "if (dna == dna[::-1]) : print(\"Палиндром\")\n",
    "else : print(\"Совсем не палиндром\")\n",
    "    #недостаток - в использовании дополнительной памяти"
   ]
  },
  {
   "cell_type": "code",
   "execution_count": null,
   "metadata": {
    "collapsed": true
   },
   "outputs": [],
   "source": [
    "#другое решение\n",
    "dna = input()\n",
    "i = 0\n",
    "j = len(dna) - 1\n",
    "is_palindrom = True\n",
    "while i < j :\n",
    "    if dna[i] != dna[j]:\n",
    "        is_palindrom = False\n",
    "        break\n",
    "    i += 1\n",
    "    j += 1\n",
    "if is_palindrom:\n",
    "    print(\"Палиндром\")\n",
    "else: \n",
    "    print(\"Не палиндром\")"
   ]
  },
  {
   "cell_type": "code",
   "execution_count": 55,
   "metadata": {
    "collapsed": false
   },
   "outputs": [
    {
     "name": "stdout",
     "output_type": "stream",
     "text": [
      "a\n",
      "a1\n",
      "\n"
     ]
    }
   ],
   "source": [
    "#задача 3 - сжимаем геном\n",
    "task3 = input() #вводим кодировку\n",
    "index = 1 #задаем индекс\n",
    "nuclind = \"\" #заводим пустую строку, куда будем складывать получающуюся кодировку\n",
    "for i in range(1,len(task3)) : #пробегаем все значения от 1 до длины генома - 1\n",
    "    #print(i)\n",
    "    if (task3[i] == task3[i-1]) : #если текущая буква совпадает с предыдущей, \n",
    "        index += 1 #прибавляем к индексу единицу\n",
    "    else : #в противном случае\n",
    "        nuclind = nuclind + task3[i-1] + str(index) #записываем в ответ предыдущую букву и количество набежавших повторов\n",
    "        index = 1 #и не забываем сбрасывать индекс\n",
    "    if (i == len(task3) - 1) : #если мы дошли до конца цикла\n",
    "        nuclind = nuclind + task3[i] + str(index) #записываем информацию о последней букве и количестве ее повторов\n",
    "if (len(task3) == 1) : #если нам попалась строка единичной длины\n",
    "    print(task3 + \"1\") #выводим ее как есть\n",
    "print(nuclind)"
   ]
  }
 ],
 "metadata": {
  "anaconda-cloud": {},
  "kernelspec": {
   "display_name": "Python [conda root]",
   "language": "python",
   "name": "conda-root-py"
  },
  "language_info": {
   "codemirror_mode": {
    "name": "ipython",
    "version": 3
   },
   "file_extension": ".py",
   "mimetype": "text/x-python",
   "name": "python",
   "nbconvert_exporter": "python",
   "pygments_lexer": "ipython3",
   "version": "3.5.2"
  }
 },
 "nbformat": 4,
 "nbformat_minor": 1
}
