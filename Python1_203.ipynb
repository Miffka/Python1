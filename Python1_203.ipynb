{
 "cells": [
  {
   "cell_type": "code",
   "execution_count": 1,
   "metadata": {
    "collapsed": false
   },
   "outputs": [
    {
     "name": "stdout",
     "output_type": "stream",
     "text": [
      "4\n",
      "9\n",
      "25\n"
     ]
    }
   ],
   "source": [
    "#цикл for\n",
    "for i in 2, 3, 5: #задаем вектор в явном виде в условии цикла\n",
    "    print(i*i)"
   ]
  },
  {
   "cell_type": "code",
   "execution_count": 1,
   "metadata": {
    "collapsed": false
   },
   "outputs": [
    {
     "name": "stdout",
     "output_type": "stream",
     "text": [
      "0\n",
      "1\n",
      "4\n",
      "9\n",
      "16\n",
      "25\n",
      "36\n",
      "49\n",
      "64\n",
      "81\n"
     ]
    },
    {
     "data": {
      "text/plain": [
       "range(2, 15, 4)"
      ]
     },
     "execution_count": 1,
     "metadata": {},
     "output_type": "execute_result"
    }
   ],
   "source": [
    "for i in range(10) : #задаем вектор с(0:9) при помощи функции range\n",
    "    print(i*i)\n",
    "range(5) #0, 1, 2, 3, 4\n",
    "range(2, 5) #2, 3, 4\n",
    "range(2, 15, 4) #2, 6, 10, 14\n",
    "#range(start = 0, to, step = 1)"
   ]
  },
  {
   "cell_type": "code",
   "execution_count": 6,
   "metadata": {
    "collapsed": false
   },
   "outputs": [
    {
     "name": "stdout",
     "output_type": "stream",
     "text": [
      "5\n",
      "*****\n",
      "*****\n",
      "*****\n",
      "*****\n",
      "*****\n"
     ]
    }
   ],
   "source": [
    "#пример - квадрат из звездочек\n",
    "n = int(input())\n",
    "for i in range(n) :\n",
    "    print(\"*\" * n)"
   ]
  },
  {
   "cell_type": "code",
   "execution_count": 7,
   "metadata": {
    "collapsed": false
   },
   "outputs": [
    {
     "name": "stdout",
     "output_type": "stream",
     "text": [
      "4\n",
      "****\n",
      "****\n",
      "****\n",
      "****\n"
     ]
    }
   ],
   "source": [
    "#та же задача, вложенные циклы\n",
    "n = int(input())\n",
    "for i in range(n) :\n",
    "    for j in range(n) : \n",
    "        print(\"*\", end = \"\") #выводим все символы в одну строку\n",
    "    print() #здесь переходим на новую строку"
   ]
  },
  {
   "cell_type": "code",
   "execution_count": 18,
   "metadata": {
    "collapsed": false
   },
   "outputs": [
    {
     "name": "stdout",
     "output_type": "stream",
     "text": [
      "1\n",
      "5\n",
      "6\n",
      "8\n",
      " \t6\t7\t8\t\n",
      "1\t6\t7\t8\t\n",
      "2\t12\t14\t16\t\n",
      "3\t18\t21\t24\t\n",
      "4\t24\t28\t32\t\n",
      "5\t30\t35\t40\t\n"
     ]
    }
   ],
   "source": [
    "#задача 1\n",
    "a = int(input()) #вводим левую границу первого отрезка\n",
    "b = int(input()) #вводим правую границу первого отрезка\n",
    "c = int(input()) #вводим левую границу второго отрезка\n",
    "d = int(input()) #вводим правую границу второго отрезка\n",
    "print(\" \", end = \"\\t\") #добавляем пропуск на месте первого элемента\n",
    "for i in range(c, d + 1) : #прописываем первую строку с заголовками столбцов\n",
    "    print(i, end = \"\\t\")\n",
    "print() #переходим на новую строку\n",
    "for i in range(a, b + 1) : #первый цикл - это количество строк\n",
    "    print(i, end = \"\\t\") #записываем значения i в качестве заголовка строки\n",
    "    for j in range(c, d + 1) : #второй цикл - это количество столбцов\n",
    "        print(i*j, end = \"\\t\") #записываем искомые значения таблицы умножения\n",
    "    print() #переходим на следующую строку"
   ]
  },
  {
   "cell_type": "code",
   "execution_count": 2,
   "metadata": {
    "collapsed": false
   },
   "outputs": [
    {
     "name": "stdout",
     "output_type": "stream",
     "text": [
      "100 200\n",
      "7500\n"
     ]
    }
   ],
   "source": [
    "#пример - считаем сумму всех нечетных чисел на интервале\n",
    "a, b = input().split()\n",
    "a = int(a)\n",
    "b = int(b)\n",
    "s = 0 #сюда будет записываться сумма\n",
    "for i in range(a, b + 1) : #пробегаем все числа в цикле и проверяем, являются ли они нечетными\n",
    "    if i % 2 == 1 : #если это так, \n",
    "        s += i #добавляем его к сумме\n",
    "print(s)"
   ]
  },
  {
   "cell_type": "code",
   "execution_count": 22,
   "metadata": {
    "collapsed": false
   },
   "outputs": [
    {
     "name": "stdout",
     "output_type": "stream",
     "text": [
      "4 8\n",
      "12\n"
     ]
    }
   ],
   "source": [
    "#пример - ищем первое нечетное число и выполняем вдвое меньше шагов в цикле\n",
    "a, b = input().split()\n",
    "a = int(a)\n",
    "b = int(b)\n",
    "s = 0 #сюда будет записываться сумма\n",
    "if a % 2 == 0:\n",
    "    a += 1\n",
    "for i in range(a, b + 1, 2):\n",
    "    s += i\n",
    "print(s)"
   ]
  },
  {
   "cell_type": "code",
   "execution_count": null,
   "metadata": {
    "collapsed": true
   },
   "outputs": [],
   "source": [
    "#пример - вводим данные по-другому\n",
    "a, b = (int(i) for i in input().split()) '''применяем функцию int ко всем i в последовательности, генерируемой\n",
    "input().split()'''\n",
    "#конструкцию удобно применять для длинных последовательностей\n",
    "s = 0 #сюда будет записываться сумма\n",
    "if a % 2 == 0:\n",
    "    a += 1\n",
    "for i in range(a, b + 1, 2):\n",
    "    s += i\n",
    "print(s)"
   ]
  },
  {
   "cell_type": "code",
   "execution_count": 30,
   "metadata": {
    "collapsed": false
   },
   "outputs": [
    {
     "name": "stdout",
     "output_type": "stream",
     "text": [
      "-5\n",
      "12\n",
      "4.5\n"
     ]
    }
   ],
   "source": [
    "#задача 2\n",
    "a, b = int(input()), int(input())\n",
    "sum = 0 #сюда будем складывать сумму\n",
    "n = 0 #а сюда - количество кратных 3\n",
    "while (a % 3 != 0): #находим ближайшее к a число, кратное 3\n",
    "    a += 1\n",
    "for i in range(a, b + 1, 3) : #теперь пробегаем по интервалу от нового a до b с шагом 3\n",
    "    sum += i #к сумме добавляем каждое число\n",
    "    #print(sum)\n",
    "    n += 1 #к количеству чисел добавляем 1\n",
    "    #print(n)\n",
    "print(sum/n)"
   ]
  }
 ],
 "metadata": {
  "anaconda-cloud": {},
  "kernelspec": {
   "display_name": "Python 3",
   "language": "python",
   "name": "python3"
  },
  "language_info": {
   "codemirror_mode": {
    "name": "ipython",
    "version": 3
   },
   "file_extension": ".py",
   "mimetype": "text/x-python",
   "name": "python",
   "nbconvert_exporter": "python",
   "pygments_lexer": "ipython3",
   "version": "3.6.0"
  }
 },
 "nbformat": 4,
 "nbformat_minor": 1
}
