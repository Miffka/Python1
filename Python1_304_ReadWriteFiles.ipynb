{
 "cells": [
  {
   "cell_type": "code",
   "execution_count": null,
   "metadata": {
    "collapsed": true
   },
   "outputs": [],
   "source": [
    "#чтение из файла\n",
    "inf = open(\"file.txt\", \"r\") #открываем файл, параметр r - открытие на прочтение\n",
    "s1 = inf.readline() #считываем в переменную первую строку из файла\n",
    "s2 = inf.readline() #считываем в переменную вторую строку из файла\n",
    "inf.close() #принудительное закрытие файла\n",
    "\n",
    "#инструкция по автоматическому открытию-закрытию на чтение\n",
    "with open(\"text.txt\") as inf:\n",
    "    s1 = inf.readline()\n",
    "    s2 = inf.readline()"
   ]
  },
  {
   "cell_type": "code",
   "execution_count": null,
   "metadata": {
    "collapsed": true
   },
   "outputs": [],
   "source": [
    "s = inf.readline().strip() #убираем все служебные символы из файла\n",
    "\n",
    "#нужно подключить модуль os для этой функции\n",
    "os.path.join(\"папка\", \"подпапка\", \"имя файла.разрешение\")"
   ]
  },
  {
   "cell_type": "code",
   "execution_count": null,
   "metadata": {
    "collapsed": true
   },
   "outputs": [],
   "source": [
    "#читаем все строки из файла\n",
    "with open(\"input.txt\") as inf:\n",
    "    for line in inf:\n",
    "        line = line.strip()\n",
    "        print(line)"
   ]
  },
  {
   "cell_type": "code",
   "execution_count": null,
   "metadata": {
    "collapsed": true
   },
   "outputs": [],
   "source": [
    "#запись в файл\n",
    "ouf = open(\"file.txt\", \"w\")\n",
    "ouf.write(\"Some text\\n\") #записываем какой-то текст в файл\n",
    "ouf.write(str(25)) #обязательно преобразовываем все значения в строки\n",
    "ouf.close()\n",
    "\n",
    "#инструкция по автоматическому открытию-закрытию на запись\n",
    "with open(\"text.txt\", \"w\") as ouf:\n",
    "    ouf.write(\"Some text\\n\")\n"
   ]
  },
  {
   "cell_type": "code",
   "execution_count": null,
   "metadata": {
    "collapsed": false
   },
   "outputs": [],
   "source": [
    "#задача 1 - раскодировать кодировку типа a2b34c17\n",
    "task11 = str()\n",
    "with open(\"304_input.txt\") as inf:\n",
    "    for line in inf:\n",
    "        task11 += line.strip() #считываем все данные в одну строку\n",
    "\n",
    "task12 = str()\n",
    "k = 0\n",
    "i = 0\n",
    "while i < len(task11):\n",
    "    if task11[i].isalpha():\n",
    "        letter = task11[i]\n",
    "        i += 1\n",
    "    else:\n",
    "        j = i\n",
    "        while task11[j].isdigit():\n",
    "            #print(task11[j] + \" \" + str(task11[j].isdigit()))\n",
    "            j += 1\n",
    "            #print(j)\n",
    "            if j > len(task11) - 1:\n",
    "                break\n",
    "        k = int(task11[i:j])\n",
    "        #print(\"k is \" + str(k))\n",
    "        task12 += letter*k\n",
    "        k = 0\n",
    "        i = j\n",
    "\n",
    "with open(\"304_task1.txt\", \"w\") as ouf:\n",
    "    ouf.write(task12)"
   ]
  },
  {
   "cell_type": "code",
   "execution_count": 48,
   "metadata": {
    "collapsed": false
   },
   "outputs": [
    {
     "name": "stdout",
     "output_type": "stream",
     "text": [
      "a3b12\n",
      "k is 3\n",
      "k is 12\n",
      "aaabbbbbbbbbbbb\n",
      "12\n"
     ]
    }
   ],
   "source": [
    "#задача 1 - проба без загрузки файла\n",
    "task11 = input()\n",
    "task12 = str()\n",
    "k = 0\n",
    "i = 0\n",
    "while i < len(task11):\n",
    "    if task11[i].isalpha():\n",
    "        letter = task11[i]\n",
    "        i += 1\n",
    "    else:\n",
    "        j = i\n",
    "        while task11[j].isdigit():\n",
    "            #print(task11[j] + \" \" + str(task11[j].isdigit()))\n",
    "            j += 1\n",
    "            #print(j)\n",
    "            if j > len(task11) - 1:\n",
    "                break\n",
    "        k = int(task11[i:j])\n",
    "        #print(\"k is \" + str(k))\n",
    "        task12 += letter*k\n",
    "        k = 0\n",
    "        i = j\n",
    "print(task12)\n",
    "print(task12.count(\"b\"))"
   ]
  },
  {
   "cell_type": "code",
   "execution_count": 8,
   "metadata": {
    "collapsed": false
   },
   "outputs": [
    {
     "name": "stdout",
     "output_type": "stream",
     "text": [
      "cU cU Tc pUpcTY ZYUYTp Tc bU YZX caaTbXTYb abZTT TTU YdYZUY adYp pdZUab c TUbc Ydd dbYTc dc bapUp dadppTa cU pZYbp dXYd dbYTc cb aX Tpbd aX aX ZZdXY YYTZpZXXb YZTU aX ad XpYcY aXT XcYTTpTUY bbdcpYTY bU aX XYaUTTaa ZZdXY XdTTXcT aTZZ XdTTXcT aYTUUYUp daXaTX ZXXTb bbdcpYTY XUUZdpa ZYUYUaYaX c daXaTX p bU YYTZpZXXb aTZZ cpdYdZ bXTcccd cpdYdZ cUYaX XdT ddpbdabYc aYa TYa cUYaX ddpbdabYc dUd ZYdpbb b cpdYdZ cpdYdZ pYTpYT p Xa pXdX cbTTcXd ddpbdabYc cdX pUp Tca dUd cpdYdZ XUpdcYc pUUXZaXYc Yd ddpbdabYc dcZpddZ ddpbdabYc b XbdYbdY pZcUTUdcT XTbdTcXpU XTbdTcXpU TUdcZXp aUcpc pUccZY U aUcpc YTabcbUc X XTbdTcXpU pZcUTUdcT YYaXbd ddUdbU aXaZccY Ucb aXaZccY aXcUYU XTbdTcXpU XTbdTcXpU Ucb ZbUa bdUTYXZd YddZcpU bXUXdTZZ ac ac ac TpbZ dXXbU TdpZbbXX ac dcdU bp UXbUa pTpZTp dcdU ac XZd Z dpTc Z ac aYcU UTca ddYb TZYUYZUZc pcbTccd bcXYdcad ac baU padUTcYb ac TXUXc dcdU baUa ccpcb ba bdadp Zb ZYZ ccbUdp TpbZ dcdU XcTU dpTc ac dcdU ddppTa bU XdbUbXXcT ac ZXabbpb cppU XdXp ZYZ XYTbdZcT dXT d bZ p Ybb abdcTbTY abdcTbTY TTT ab da daTbTpX TTT cZcXUcddY TTT Ybb Yd pX ab pX Ybb pccZb XdZ bXabZaU acTUdTad bbcbccpbY TTT TaXbXUU TaXbXUU YY UpTTdTT cXbbZb UaZT TaXbXUU bYcUTc TaXbXUU TaXbXUU dd YcU UpTTdTT YbdcTpa dZdXdZ U b apTX dYTUXcZTX pbppp apTX U dZdXdZ b XpTppcUZa dZdXdZ bc dZdXdZ dZdXdZ paT pZY UYdUcTZ pTpZ pUpcd dZdXdZ dTZZpX XpT UpTYTUT UbcdpXdc ap Zb dXad Zb dXad YYTpY UUYZ TUa ab ab paXXc YpZa bXcU ZTX dU abY Up XaT YaXTU pZT bXcU ccbpac bXcU Xpa ZUZ Y ZUZ UZcacUcUa YbX XYaT daXTbcXX cZ T badbbZdaY X YpZa TYpZX YbTZT aZpcaY YbTZT dXYYbTc TadX bUU bbcUp bZpppTZYc ZaZa dUaapU TaUab YT TpbaX Y aa UaUcbXpcb TadX TcUYU TXYpT UZaacX cZ UpUUcp TdcdbadTZ \n",
      "ac 10\n"
     ]
    }
   ],
   "source": [
    "#задача 2 - анализируем частоту встречаемости слов в файле\n",
    "\n",
    "task21 = str()\n",
    "with open(\"304_input2.txt\") as inf:\n",
    "    for line in inf:\n",
    "        task21 += line.strip() + \" \" #считываем все данные в одну строку и не забываем пробел!!!!\n",
    "print(task21)\n",
    "\n",
    "task22 = [i.lower() for i in task21.split(\" \")] #задаем список из введенных слов, приведенных к нижнему регистру\n",
    "\n",
    "task23 = {} #создаем пустой словарь\n",
    "for i in task22: #перебираем значения списка\n",
    "    task23[i] = task22.count(i) #каждому значению списка сопоставляем количество этих значений в списке\n",
    "#print(task23)\n",
    "    \n",
    "mvalue = 0 #сюда будем записывать максимальное значение\n",
    "mkeys = [] #a сюда будем записывать все ключи с максимальной встречаемостью\n",
    "for value in task23.values():\n",
    "    if value > mvalue:\n",
    "        mvalue = value\n",
    "#print(\"max value is \" + str(mvalue)) #здесь проверим, что нашли максимальное значение\n",
    "for key, value in task23.items(): #строим список из всех ключей с максимальным значением показателя встречаемости\n",
    "    if value == mvalue: \n",
    "        mkeys += [key] \n",
    "#print(mkeys)\n",
    "print(min(mkeys) + \" \" + str(mvalue))"
   ]
  },
  {
   "cell_type": "code",
   "execution_count": 1,
   "metadata": {
    "collapsed": false
   },
   "outputs": [
    {
     "name": "stdout",
     "output_type": "stream",
     "text": [
      "da da pdZZbda aYdYp YU XaZa T XYdXbp UaU pb UXdZbd dY c YacaXpZY ppUTUpZXU UXdZbd pcdcZ bZpTYbpdp UdTcd UTabaUbcZ dY ddXXXUac ZacaaXc Z b dY Xd pcdcZ TXaUpcYcc ddXXXUac XYc bZZcUcZU dXXT dYU dZbZYc d bbZTUba ZXZdadUTa dd UYdY bY dTYUcZYT ZTXbUX dUZpYTTU cpXZZTX dbXYUbpT T TpU ddXZZYaX Z Z Z UUpbcaTYY ddXZZYaX cZXUTdXTX XdY YdaZcUadT dT TpYUbd UTZacpbZb UTZacpbZb UTZacpbZb YXdc UZbc dYc p XZpZUcUp TpYUbd pTcTca dXTb TUYTpad dZbaUddU UYXpZX daXX daXX UbpTppbc ppZYYZX dbXpYZb p UZXZ p dZYcY TdcdaTU baac aYTba bTdd ZYUdda TpYUbd daXX daXX p ad Yp TpYUbd TbT ZacUcc TbT TbYXdUd UZbc X daXX dbdZYTdT bTYZUYZ b bTYZUYZ b dXapT dUZX bTYZUYZ YZ dTTbbbYT dTTbbbYT UbpYba Z XTcZaXY TT Ya YdpdT dcacaaa UYpX YXZdYZ U cZaTZdXT bp bUU ddppTXZc TT XpdXbT YdpdT bcXYa UcdcZbbZ dbZYcTb ZXba YXZdYZ XUdTpX ZYaa ZZccbTdT b ZpTaZdbac cT cUZUbUacc YpT cX dXapT UaZaYYZac XbX TddYXTpc bUU Xc TddYXTpc pZTXZTaYd XZYXXab XXccdYTpc bpTccZaac XXccdYTpc bpTccZaac TdZaXXdpb d Td bpTccZaac bTTXa bpTccZaac ZUdTdpbXa bTTXa ZppX UZpTXTb aUYaadaTY cXYT pbd XXXXdXdpY UZY UZTpZaca XXccdYTpc TdZaXXdpb XXccdYTpc YXUp XXccdYTpc XXccdYTpc pYdYppcXp Uab aX bpTccZaac XaZpTYXUY bUbdZ TT cYcbpZYa\n",
      "['xxccdytpc']\n",
      "xxccdytpc 6\n"
     ]
    }
   ],
   "source": [
    "#задача 2 - пробуем протестировать программу без считывания файла\n",
    "task21 = str(input())\n",
    "\n",
    "task22 = [i.lower() for i in task21.split(\" \")] #задаем список из введенных слов, приведенных к нижнему регистру\n",
    "\n",
    "task23 = {} #создаем пустой словарь\n",
    "for i in task22: #перебираем значения списка\n",
    "    task23[i] = task22.count(i) #каждому значению списка сопоставляем количество этих значений в списке\n",
    "#print(task23)\n",
    "    \n",
    "mvalue = 0 #сюда будем записывать максимальное значение\n",
    "mkeys = [] #a сюда будем записывать все ключи с максимальной встречаемостью\n",
    "for value in task23.values():\n",
    "    if value > mvalue:\n",
    "        mvalue = value\n",
    "#print(\"max value is \" + str(mvalue)) #здесь проверим, что нашли максимальное значение\n",
    "for key, value in task23.items():\n",
    "    if value == mvalue:\n",
    "        mkeys += [key]\n",
    "print(mkeys)\n",
    "print(min(mkeys) + \" \" + str(mvalue))"
   ]
  },
  {
   "cell_type": "code",
   "execution_count": 41,
   "metadata": {
    "collapsed": false
   },
   "outputs": [
    {
     "name": "stdout",
     "output_type": "stream",
     "text": [
      "[['Jones', 51, 90, 95], ['Hancock', 100, 90, 94], ['Jacobson', 87, 74, 27], ['Waller', 80, 47, 67], ['Bishop', 53, 55, 62], ['Adamson', 36, 75, 48], ['Holmes', 31, 91, 99], ['Coleman', 75, 54, 88], ['Dutton', 79, 75, 67], ['Lamberts', 89, 50, 40], ['Clapton', 45, 49, 48], ['Arthurs', 66, 32, 62], ['Timmons', 55, 48, 69], ['Molligan', 36, 68, 40], ['Enderson', 49, 30, 31], ['Marlow', 39, 46, 100], ['Russel', 69, 69, 38], ['Taft', 51, 65, 67], ['Milton', 75, 77, 55], ['Thornton', 40, 80, 33], ['Samuels', 42, 85, 44], ['Ogden', 55, 69, 38], ['Nyman', 94, 53, 86], ['Barnes', 76, 94, 75], ['Albertson', 25, 47, 74], ['Chandter', 26, 88, 62], ['Faber', 35, 50, 37], ['Brickman', 68, 65, 93], ['Osborne', 32, 69, 84], ['Farmer', 72, 98, 95], ['Douglas', 44, 53, 95], ['Shorter', 43, 38, 59], ['Parson', 43, 30, 98], ['Gardner', 60, 38, 85], ['Longman', 37, 77, 66], ['Addington', 69, 54, 43], ['Oldman', 51, 85, 77], ['Bush', 40, 80, 53], ['Wayne', 96, 59, 59], ['Youmans', 61, 50, 83], ['Creighton', 57, 35, 45], ['Pearcy', 74, 55, 78], ['Gerald', 77, 97, 80], ['Duncan', 37, 90, 39], ['Oakman', 28, 75, 67], ['Bargeman', 61, 37, 72], ['Neal', 32, 45, 34], ['Gimson', 76, 53, 95], ['Durham', 79, 35, 33], ['Gibbs', 53, 96, 50], ['Abramson', 24, 59, 74], ['Jerome', 89, 61, 55], ['Gate', 100, 90, 73], ['Clifford', 98, 74, 82], ['Flatcher', 51, 72, 82], ['Harrison', 98, 66, 68], ['Kennett', 69, 81, 71], ['Allford', 25, 73, 31], ['Pass', 80, 78, 25], ['Reynolds', 50, 24, 83], ['Simpson', 63, 83, 60], ['Bootman', 42, 55, 57], ['Stanley', 93, 65, 74], ['Mackenzie', 69, 71, 87], ['Garrison', 40, 93, 39], ['Parkinson', 48, 79, 53], ['Fitzgerald', 73, 59, 60], ['Miln', 67, 46, 40], ['Fane', 71, 31, 68], ['Carter', 46, 55, 63], ['Dowman', 98, 50, 83], ['Fleming', 30, 77, 75], ['Gilson', 29, 60, 82], ['Dunce', 57, 24, 52], ['Wainwright', 96, 92, 32], ['Mansfield', 64, 31, 76], ['Fulton', 87, 95, 36], ['MacAlister', 79, 52, 99], ['Peterson', 46, 51, 67], ['Jenkin', 77, 42, 100], ['Boolman', 52, 87, 49], ['Nevill', 52, 64, 28], ['Kelly', 53, 86, 81], ['Anderson', 86, 29, 52], ['Gilbert', 39, 60, 48], ['Crossman', 87, 100, 75], ['Owen', 28, 78, 83], ['MacAdam', 29, 46, 55], ['Richards', 82, 37, 35]]\n"
     ]
    }
   ],
   "source": [
    "#задача 3 - выводим среднее значение для каждого первого значения в списке - словари неупорядочены, приходится делать списком\n",
    "task21 = []\n",
    "\n",
    "k = 0\n",
    "with open(\"304_input3.txt\") as inf: #считываем файл\n",
    "    for line in inf: #для каждой линии в файле\n",
    "        task21.append([i for i in line.strip().split(\";\")]) #считываем строку с разделителем в подмассив\n",
    "        \n",
    "        #теперь преобразуем строковые составляющие в цифры\n",
    "        for j in range(1,len(task21[k])): #для каждого индекса по горизонтали, начиная с 1\n",
    "            task21[k][j] = int(task21[k][j]) #заменяем значение подмассива, соответствующее индексу, на числовое\n",
    "        k += 1 #прибавляем к счетчику строк единицу\n",
    "\n",
    "print(task21) #проверяем, что за список у нас получился\n",
    "\n",
    "sumsubj = [0, 0, 0]\n",
    "#добавляем средние значения по оценкам для каждого подмассива в конец подмассива\n",
    "for i in range(len(task21)): #пробегаем по строкам\n",
    "    task21[i].append(sum(task21[i][1:])/len(task21[i][1:])) #добавляем среднее значение в конец подсписка\n",
    "    for j in range(1,len(task21[i]) - 1): #для каждого значения по отдельному предмету\n",
    "        #print(j)\n",
    "        sumsubj[j-1] += task21[i][j] #добавляем в отдельный массив значение для текущего ученика и собираем сумму\n",
    "\n",
    "#print(task21) #проверяем, что за список у нас получился\n",
    "\n",
    "with open(\"304_output3.txt\", \"w\") as ouf:\n",
    "    for i in range(len(task21)):\n",
    "        ouf.write(str(task21[i][len(task21[i]) - 1]) + \"\\n\")\n",
    "    for j in range(len(sumsubj)):\n",
    "        ouf.write(str(sumsubj[j]/len(task21)) + \" \")"
   ]
  },
  {
   "cell_type": "code",
   "execution_count": 31,
   "metadata": {
    "collapsed": false
   },
   "outputs": [
    {
     "name": "stdout",
     "output_type": "stream",
     "text": [
      "[2, 6, 7]\n"
     ]
    }
   ],
   "source": [
    "a = [0, 4, 5]\n",
    "for i in range(len(a)):\n",
    "    a[i] += 2\n",
    "print(a)"
   ]
  }
 ],
 "metadata": {
  "anaconda-cloud": {},
  "kernelspec": {
   "display_name": "Python 3",
   "language": "python",
   "name": "python3"
  },
  "language_info": {
   "codemirror_mode": {
    "name": "ipython",
    "version": 3
   },
   "file_extension": ".py",
   "mimetype": "text/x-python",
   "name": "python",
   "nbconvert_exporter": "python",
   "pygments_lexer": "ipython3",
   "version": "3.6.0"
  }
 },
 "nbformat": 4,
 "nbformat_minor": 1
}
