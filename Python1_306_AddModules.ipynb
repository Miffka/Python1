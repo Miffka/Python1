{
 "cells": [
  {
   "cell_type": "code",
   "execution_count": null,
   "metadata": {
    "collapsed": true
   },
   "outputs": [],
   "source": [
    "#Библиотека request\n",
    "#пишем в командной строке conda install requests\n",
    "#дальше смотрим код в Python1_306_00.py\n",
    "\n",
    "import requests\n",
    "\n",
    "\"\"\"r = requests.get(\"http://example.com\") #простой GET запрос\n",
    "print(r.text) #вывод ответа от сервера\"\"\"\n",
    "\n",
    "url = \"http://example.com\"\n",
    "par = {\"key1\": \"value1\", \"key2\": \"value2\"}\n",
    "r = requests.get(url, params = par) # передача параметров в запрос\n",
    "print(r.url) #сформированный url-адрес у учетом параметров GET запроса\n",
    "print(r.content) #получение всего содержимого страницы\n",
    "\n",
    "\"\"\"\n",
    "url = \"http://httpbin.org/cookies\"\n",
    "cookies = {\"cookies_are\": \"working\"}\n",
    "r = requests.get(url, cookies = cookies) #отправка сформированных cookies на сервер\n",
    "print(r.text)\n",
    "\n",
    "print(r.cookies[\"example_cookie_name\"]) #использование cookies, полученных от сервера\n",
    "\"\"\""
   ]
  },
  {
   "cell_type": "code",
   "execution_count": 37,
   "metadata": {},
   "outputs": [
    {
     "name": "stdout",
     "output_type": "stream",
     "text": [
      "60\n"
     ]
    }
   ],
   "source": [
    "#задача 1 - переход по ссылке, подсчет строк через метод splitlines\n",
    "import requests\n",
    "\n",
    "with open(\"306_input1.txt\") as inf:\n",
    "    url = inf.read().strip()\n",
    "\n",
    "url1 = \"https://stepic.org/media/attachments/course67/3.6.2/869.txt\"\n",
    "\n",
    "\"\"\"\n",
    "print(url)\n",
    "print(type(url))\n",
    "print(len(url))\n",
    "print(url1)\n",
    "print(type(url1))\n",
    "print(len(url1))\n",
    "\"\"\"\n",
    "\n",
    "r = requests.get(url)\n",
    "#print(r.text.splitlines())\n",
    "print(len(r.text.splitlines()))\n",
    "\n",
    "with open(\"306_output1.txt\", \"w\") as ouf:\n",
    "    ouf.write(str(len(r.text.splitlines())))"
   ]
  },
  {
   "cell_type": "code",
   "execution_count": null,
   "metadata": {},
   "outputs": [],
   "source": [
    "#задача 2 - переход по множеству ссылок\n",
    "\n",
    "import requests\n",
    "\n",
    "task2 = \"\"\n",
    "url = \"https://stepic.org/media/attachments/course67/3.6.3/699991.txt\"\n",
    "r = requests.get(url)\n",
    "task2 = r.text\n",
    "\n",
    "k = 0\n",
    "while task2[:2] != \"We\":\n",
    "    r = requests.get(url)\n",
    "    task2 = r.text\n",
    "    url = \"https://stepic.org/media/attachments/course67/3.6.3/\" + task2\n",
    "    k += 1\n",
    "    print(k)\n",
    "\n",
    "print(task2)\n",
    "\n",
    "with open(\"306_output2.txt\", \"w\") as ouf:\n",
    "    ouf.write(str(task2))"
   ]
  }
 ],
 "metadata": {
  "anaconda-cloud": {},
  "kernelspec": {
   "display_name": "Python 3",
   "language": "python",
   "name": "python3"
  },
  "language_info": {
   "codemirror_mode": {
    "name": "ipython",
    "version": 3
   },
   "file_extension": ".py",
   "mimetype": "text/x-python",
   "name": "python",
   "nbconvert_exporter": "python",
   "pygments_lexer": "ipython3",
   "version": "3.6.0"
  }
 },
 "nbformat": 4,
 "nbformat_minor": 1
}
