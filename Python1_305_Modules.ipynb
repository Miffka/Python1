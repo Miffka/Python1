{
 "cells": [
  {
   "cell_type": "code",
   "execution_count": null,
   "metadata": {
    "collapsed": true
   },
   "outputs": [],
   "source": [
    "#импорт модуля, функции из модуля\n",
    "import my_module\n",
    "my_module.foo()\n",
    "\n",
    "#импорт одной функции\n",
    "from my_module import foo\n",
    "foo()\n",
    "\n",
    "#импорт всего, что есть в модуле\n",
    "from my_module import *\n",
    "foo()\n",
    "\n",
    "#импорт функции под новым именем\n",
    "from my_module import foo as my_foo\n",
    "my_foo()\n"
   ]
  },
  {
   "cell_type": "code",
   "execution_count": null,
   "metadata": {
    "collapsed": true
   },
   "outputs": [],
   "source": [
    "#Модуль sys\n",
    "\n",
    "sys.argv #список аргументов командной строки"
   ]
  },
  {
   "cell_type": "code",
   "execution_count": 8,
   "metadata": {},
   "outputs": [
    {
     "name": "stdout",
     "output_type": "stream",
     "text": [
      "3\n",
      "['C:\\\\Program Files\\\\Anaconda3\\\\lib\\\\site-packages\\\\ipykernel\\\\__main__.py', '-f', 'C:\\\\Users\\\\miffka\\\\AppData\\\\Roaming\\\\jupyter\\\\runtime\\\\kernel-2a2eb7a1-a608-449d-9702-2980d9489701.json']\n"
     ]
    }
   ],
   "source": [
    "import sys\n",
    "print(len(sys.argv)) #имя плюс два параметра\n",
    "print(sys.argv)"
   ]
  },
  {
   "cell_type": "code",
   "execution_count": null,
   "metadata": {
    "collapsed": true
   },
   "outputs": [],
   "source": [
    "#модуль subprocess\n",
    "subprocess.call(args, *, stdin = None, stdout = None, stderr = None, shell = False, timeout = None) \n",
    "#запускает программу в соответствии с аргументами (args), дожидается выполнения и возвращает код возврата\n",
    "\"\"\"stdout - файл, куда можно выводить внешнюю программу, а stdin - файл, который можно вводить во внешнюю программу\"\"\""
   ]
  },
  {
   "cell_type": "code",
   "execution_count": 4,
   "metadata": {},
   "outputs": [
    {
     "data": {
      "text/plain": [
       "0"
      ]
     },
     "execution_count": 4,
     "metadata": {},
     "output_type": "execute_result"
    }
   ],
   "source": [
    "import subprocess\n",
    "subprocess.call([\"python\", \"-h\"]) #вывод нашей и внешней программы смешивается"
   ]
  },
  {
   "cell_type": "code",
   "execution_count": 7,
   "metadata": {},
   "outputs": [
    {
     "name": "stdout",
     "output_type": "stream",
     "text": [
      "10.0\n",
      "62.83185307179586\n"
     ]
    }
   ],
   "source": [
    "#задача 1 - подключить math, используем pi, находим для радиуса во вводе периметр круга и выводим на стандартный вывод\n",
    "import math\n",
    "radius = float(input())\n",
    "print(2*radius*math.pi)"
   ]
  },
  {
   "cell_type": "code",
   "execution_count": 9,
   "metadata": {},
   "outputs": [
    {
     "name": "stdout",
     "output_type": "stream",
     "text": [
      "-f\n",
      "C:\\Users\\miffka\\AppData\\Roaming\\jupyter\\runtime\\kernel-2a2eb7a1-a608-449d-9702-2980d9489701.json\n"
     ]
    }
   ],
   "source": [
    "#задача 2 - программа из консоли печатает значения всех переданных ей аргументов на экран\n",
    "import sys\n",
    "a = sys.argv\n",
    "for i in range(1, len(a)):\n",
    "    print(str(a[i]))"
   ]
  }
 ],
 "metadata": {
  "kernelspec": {
   "display_name": "Python 3",
   "language": "python",
   "name": "python3"
  },
  "language_info": {
   "codemirror_mode": {
    "name": "ipython",
    "version": 3
   },
   "file_extension": ".py",
   "mimetype": "text/x-python",
   "name": "python",
   "nbconvert_exporter": "python",
   "pygments_lexer": "ipython3",
   "version": "3.6.0"
  }
 },
 "nbformat": 4,
 "nbformat_minor": 1
}
