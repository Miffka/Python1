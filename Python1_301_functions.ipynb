{
 "cells": [
  {
   "cell_type": "code",
   "execution_count": 2,
   "metadata": {},
   "outputs": [
    {
     "name": "stdout",
     "output_type": "stream",
     "text": [
      "2\n"
     ]
    }
   ],
   "source": [
    "'''функции и зачем они нужны\n",
    "1) разбиение на логические части\n",
    "2) сокрытие деталей реализации\n",
    "3) переиспользование\n",
    "4) создание новых боабоаба'''\n",
    "#поиск минимума\n",
    "def min2(a, b): #это объявление функции\n",
    "    if a <= b:\n",
    "        return a\n",
    "    else:\n",
    "        return b\n",
    "print(min2(2,3))\n",
    "#функция должна быть объявлена ранее первого вызова"
   ]
  },
  {
   "cell_type": "code",
   "execution_count": 4,
   "metadata": {},
   "outputs": [
    {
     "data": {
      "text/plain": [
       "5"
      ]
     },
     "execution_count": 4,
     "metadata": {},
     "output_type": "execute_result"
    }
   ],
   "source": [
    "#функция может не содержать return или содержать пустой return\n",
    "#функция с произвольным числом параметров\n",
    "def foomin(*a):\n",
    "    m = a[0]\n",
    "    for x in a:\n",
    "        if m > x:\n",
    "            m = x\n",
    "    return m\n",
    "foomin(5,6,7,8)"
   ]
  },
  {
   "cell_type": "code",
   "execution_count": 5,
   "metadata": {
    "collapsed": true
   },
   "outputs": [],
   "source": [
    "#параметры по умолчанию\n",
    "def my_range(start, stop, step = 1): #задаем параметры - два обязательных и один по умолчанию\n",
    "    res = [] #задаем пустой список, куда будем складывать все значения списка\n",
    "    if step > 0: #если добавка больше нуля\n",
    "        x = start #начинаем со стартового значения\n",
    "        while x < stop: #пока не дошли до значения stop\n",
    "            res += [x] #добавляем в выходной список значение x\n",
    "            x += step #и добавляем к текущему x значение добавки\n",
    "    elif step < 0: #если добавка меньше ноля\n",
    "        x = start\n",
    "        while x > stop: #идем в другую сторону по величине\n",
    "            res += [x]\n",
    "            x += step \n",
    "    return res #и в конце возвращаем наш список"
   ]
  },
  {
   "cell_type": "code",
   "execution_count": 9,
   "metadata": {},
   "outputs": [
    {
     "name": "stdout",
     "output_type": "stream",
     "text": [
      "[8, 5, 2, -1]\n"
     ]
    }
   ],
   "source": [
    "print(my_range(8, -2, -3))"
   ]
  },
  {
   "cell_type": "code",
   "execution_count": 10,
   "metadata": {},
   "outputs": [
    {
     "ename": "TypeError",
     "evalue": "my_range() missing 1 required positional argument: 'stop'",
     "output_type": "error",
     "traceback": [
      "\u001b[0;31m---------------------------------------------------------------------------\u001b[0m",
      "\u001b[0;31mTypeError\u001b[0m                                 Traceback (most recent call last)",
      "\u001b[0;32m<ipython-input-10-7f323f45b913>\u001b[0m in \u001b[0;36m<module>\u001b[0;34m()\u001b[0m\n\u001b[1;32m      1\u001b[0m \u001b[1;31m#можно вызывать функцию с явным обозначением переменных\u001b[0m\u001b[1;33m\u001b[0m\u001b[1;33m\u001b[0m\u001b[0m\n\u001b[0;32m----> 2\u001b[0;31m \u001b[0mprint\u001b[0m\u001b[1;33m(\u001b[0m\u001b[0mmy_range\u001b[0m\u001b[1;33m(\u001b[0m\u001b[0mstart\u001b[0m \u001b[1;33m=\u001b[0m \u001b[1;33m-\u001b[0m\u001b[1;36m1\u001b[0m\u001b[1;33m,\u001b[0m \u001b[0mstep\u001b[0m \u001b[1;33m=\u001b[0m \u001b[1;33m-\u001b[0m\u001b[1;36m2\u001b[0m\u001b[1;33m)\u001b[0m\u001b[1;33m)\u001b[0m\u001b[1;33m\u001b[0m\u001b[0m\n\u001b[0m",
      "\u001b[0;31mTypeError\u001b[0m: my_range() missing 1 required positional argument: 'stop'"
     ]
    }
   ],
   "source": [
    "#можно вызывать функцию с явным обозначением переменных\n",
    "print(my_range(start = -1, step = -2))"
   ]
  },
  {
   "cell_type": "code",
   "execution_count": 12,
   "metadata": {},
   "outputs": [
    {
     "ename": "NameError",
     "evalue": "name 'a' is not defined",
     "output_type": "error",
     "traceback": [
      "\u001b[0;31m---------------------------------------------------------------------------\u001b[0m",
      "\u001b[0;31mNameError\u001b[0m                                 Traceback (most recent call last)",
      "\u001b[0;32m<ipython-input-12-4a2312d63dcd>\u001b[0m in \u001b[0;36m<module>\u001b[0;34m()\u001b[0m\n\u001b[1;32m      3\u001b[0m     \u001b[0ma\u001b[0m \u001b[1;33m=\u001b[0m \u001b[1;36m100\u001b[0m\u001b[1;33m\u001b[0m\u001b[0m\n\u001b[1;32m      4\u001b[0m \u001b[0minit_values\u001b[0m\u001b[1;33m(\u001b[0m\u001b[1;33m)\u001b[0m\u001b[1;33m\u001b[0m\u001b[0m\n\u001b[0;32m----> 5\u001b[0;31m \u001b[0mprint\u001b[0m\u001b[1;33m(\u001b[0m\u001b[0ma\u001b[0m\u001b[1;33m)\u001b[0m\u001b[1;33m\u001b[0m\u001b[0m\n\u001b[0m",
      "\u001b[0;31mNameError\u001b[0m: name 'a' is not defined"
     ]
    }
   ],
   "source": [
    "#локальные переменные\n",
    "def init_values():\n",
    "    a = 100\n",
    "init_values()\n",
    "print(a) #ничего не получаем"
   ]
  },
  {
   "cell_type": "code",
   "execution_count": 14,
   "metadata": {},
   "outputs": [
    {
     "name": "stdout",
     "output_type": "stream",
     "text": [
      "100\n"
     ]
    }
   ],
   "source": [
    "def init_values():\n",
    "    global a #объявляем глобальную переменную\n",
    "    a = 100\n",
    "init_values()\n",
    "print(a) #получаем значение"
   ]
  },
  {
   "cell_type": "code",
   "execution_count": 16,
   "metadata": {},
   "outputs": [
    {
     "name": "stdout",
     "output_type": "stream",
     "text": [
      "[0]\n"
     ]
    }
   ],
   "source": [
    "#однако мы можем в функциях изменять части существующих изменяемых переменных, например, списков\n",
    "def append_zero(xs):\n",
    "    xs.append(0)\n",
    "    xs = [100] #пробуем поменять список через присваивание - оно существует только внутри функции\n",
    "a = []\n",
    "append_zero(a)\n",
    "print(a) #мы получаем только изменение"
   ]
  },
  {
   "cell_type": "code",
   "execution_count": 18,
   "metadata": {},
   "outputs": [
    {
     "name": "stdout",
     "output_type": "stream",
     "text": [
      "5\n"
     ]
    }
   ],
   "source": [
    "#глобальные переменные\n",
    "def print_value():\n",
    "    print(a)\n",
    "a = 5\n",
    "print_value()\n"
   ]
  },
  {
   "cell_type": "code",
   "execution_count": 29,
   "metadata": {},
   "outputs": [
    {
     "name": "stdout",
     "output_type": "stream",
     "text": [
      "[1, 2, 3]\n",
      "[5, 4]\n"
     ]
    }
   ],
   "source": [
    "#задача 3 - изменение списка - все нечетные удаляем, все четные делим нацело на 2\n",
    "def modify_list(l):\n",
    "    for i in range(len(l)): #пробегаем по индексам в поданном списке\n",
    "        if l[i]%2 != 0: #если число нечетное\n",
    "            l[i] = \"a\" #заменяем это число на букву\n",
    "        elif l[i]%2 == 0: #а если четное\n",
    "            a = l[i] // 2 #делим это число на 2\n",
    "            l[i] = a #и вставляем на текущее положение\n",
    "    #print(l)\n",
    "    while l.count(\"a\") != 0: #а теперь в цикле удаляем все буквы\n",
    "        l.remove(\"a\")\n",
    "    #print(l)\n",
    "            \n",
    "lst = [1, 2, 3, 4, 5, 6]\n",
    "modify_list(lst)\n",
    "print(lst)\n",
    "\n",
    "lst2 = [10, 5, 8, 3]\n",
    "modify_list(lst2)\n",
    "print(lst2)"
   ]
  }
 ],
 "metadata": {
  "anaconda-cloud": {},
  "kernelspec": {
   "display_name": "Python 3",
   "language": "python",
   "name": "python3"
  },
  "language_info": {
   "codemirror_mode": {
    "name": "ipython",
    "version": 3
   },
   "file_extension": ".py",
   "mimetype": "text/x-python",
   "name": "python",
   "nbconvert_exporter": "python",
   "pygments_lexer": "ipython3",
   "version": "3.6.0"
  }
 },
 "nbformat": 4,
 "nbformat_minor": 1
}
