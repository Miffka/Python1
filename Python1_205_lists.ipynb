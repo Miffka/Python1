{
 "cells": [
  {
   "cell_type": "code",
   "execution_count": 2,
   "metadata": {
    "collapsed": false
   },
   "outputs": [
    {
     "name": "stdout",
     "output_type": "stream",
     "text": [
      "Hello, Ivan!\n",
      "Hello, Masha!\n",
      "Hello, Sasha!\n",
      "['Ivan', 'Masha']\n",
      "['Sasha', 'Masha', 'Ivan']\n",
      "['Ivan', 'Masha', 'Sasha']\n",
      "['Ivan', 'Masha', 'Sasha', 'Oleg', 'Alex']\n",
      "[0, 1, 0, 1, 0, 1, 0, 1]\n"
     ]
    }
   ],
   "source": [
    "#списки\n",
    "students = [\"Ivan\", \"Masha\", \"Sasha\"]\n",
    "for student in students :\n",
    "    print(\"Hello, \" + student + \"!\")\n",
    "print(students[:2])\n",
    "print(students[::-1]) #список в обратном порядке\n",
    "students.sort()\n",
    "print(students)\n",
    "#сложение списьков\n",
    "teachers = [\"Oleg\", \"Alex\"]\n",
    "print(students + teachers)\n",
    "#умножение списьков\n",
    "print([0, 1]*4)"
   ]
  },
  {
   "cell_type": "code",
   "execution_count": 3,
   "metadata": {
    "collapsed": false
   },
   "outputs": [
    {
     "name": "stdout",
     "output_type": "stream",
     "text": [
      "['Ivan', 'Oleg', 'Sasha']\n",
      "['Ivan', 'Oleg', 'Sasha', 'Olga']\n",
      "['Ivan', 'Oleg', 'Sasha', 'Olga', 'Olga']\n",
      "['Ivan', 'Oleg', 'Sasha', 'Olga', 'Olga', 'Boris', 'Sergey']\n",
      "['Ivan', 'Olga', 'Oleg', 'Sasha', 'Olga', 'Olga', 'Boris', 'Sergey']\n"
     ]
    }
   ],
   "source": [
    "#изменение списьков\n",
    "students[1] = \"Oleg\"\n",
    "print(students)\n",
    "students.append(\"Olga\")\n",
    "print(students)\n",
    "students += [\"Olga\"]\n",
    "print(students)\n",
    "students += [\"Boris\", \"Sergey\"]\n",
    "print(students)\n",
    "#вставка в середину\n",
    "students.insert(1, \"Olga\")\n",
    "print(students)"
   ]
  },
  {
   "cell_type": "code",
   "execution_count": 4,
   "metadata": {
    "collapsed": true
   },
   "outputs": [],
   "source": [
    "students += \"Olga\""
   ]
  },
  {
   "cell_type": "code",
   "execution_count": 5,
   "metadata": {
    "collapsed": false
   },
   "outputs": [
    {
     "name": "stdout",
     "output_type": "stream",
     "text": [
      "['Ivan', 'Olga', 'Oleg', 'Sasha', 'Olga', 'Olga', 'Boris', 'Sergey', 'O', 'l', 'g', 'a']\n"
     ]
    }
   ],
   "source": [
    "print(students)"
   ]
  },
  {
   "cell_type": "code",
   "execution_count": 7,
   "metadata": {
    "collapsed": false
   },
   "outputs": [
    {
     "ename": "ValueError",
     "evalue": "list.remove(x): x not in list",
     "output_type": "error",
     "traceback": [
      "\u001b[0;31m---------------------------------------------------------------------------\u001b[0m",
      "\u001b[0;31mValueError\u001b[0m                                Traceback (most recent call last)",
      "\u001b[0;32m<ipython-input-7-f1e4806f13bd>\u001b[0m in \u001b[0;36m<module>\u001b[0;34m()\u001b[0m\n\u001b[1;32m      1\u001b[0m \u001b[1;31m#удаление элементов\u001b[0m\u001b[1;33m\u001b[0m\u001b[1;33m\u001b[0m\u001b[0m\n\u001b[0;32m----> 2\u001b[0;31m \u001b[0mstudents\u001b[0m\u001b[1;33m.\u001b[0m\u001b[0mremove\u001b[0m\u001b[1;33m(\u001b[0m\u001b[1;34m\"Sasha\"\u001b[0m\u001b[1;33m)\u001b[0m \u001b[1;31m#удаление только первого вхождения\u001b[0m\u001b[1;33m\u001b[0m\u001b[0m\n\u001b[0m\u001b[1;32m      3\u001b[0m \u001b[0mprint\u001b[0m\u001b[1;33m(\u001b[0m\u001b[0mstudents\u001b[0m\u001b[1;33m)\u001b[0m\u001b[1;33m\u001b[0m\u001b[0m\n\u001b[1;32m      4\u001b[0m \u001b[1;31m#del students[0]\u001b[0m\u001b[1;33m\u001b[0m\u001b[1;33m\u001b[0m\u001b[0m\n\u001b[1;32m      5\u001b[0m \u001b[0mprint\u001b[0m\u001b[1;33m(\u001b[0m\u001b[0mstudents\u001b[0m\u001b[1;33m)\u001b[0m\u001b[1;33m\u001b[0m\u001b[0m\n",
      "\u001b[0;31mValueError\u001b[0m: list.remove(x): x not in list"
     ]
    }
   ],
   "source": [
    "#удаление элементов\n",
    "students.remove(\"Sasha\") #удаление только первого вхождения\n",
    "print(students)\n",
    "#del students[0]\n",
    "print(students)"
   ]
  },
  {
   "cell_type": "code",
   "execution_count": 8,
   "metadata": {
    "collapsed": false
   },
   "outputs": [
    {
     "name": "stdout",
     "output_type": "stream",
     "text": [
      "Ann is out\n"
     ]
    }
   ],
   "source": [
    "#проверяем, есть ли элемент в списке\n",
    "if \"Ivan\" in students:\n",
    "    print(\"Ivan is here!\")\n",
    "if \"Ann\" not in students:\n",
    "    print(\"Ann is out\")"
   ]
  },
  {
   "cell_type": "code",
   "execution_count": 9,
   "metadata": {
    "collapsed": false
   },
   "outputs": [
    {
     "name": "stdout",
     "output_type": "stream",
     "text": [
      "2\n"
     ]
    }
   ],
   "source": [
    "#индексы\n",
    "students = [\"Ivan\", \"Masha\", \"Sasha\"]\n",
    "ind = students.index(\"Sasha\")\n",
    "print(ind)"
   ]
  },
  {
   "cell_type": "code",
   "execution_count": 14,
   "metadata": {
    "collapsed": false
   },
   "outputs": [
    {
     "name": "stdout",
     "output_type": "stream",
     "text": [
      "['Ivan', 'Masha', 'Sasha']\n",
      "Ivan\n",
      "['Sasha', 'Masha', 'Ivan']\n",
      "['Ivan', 'Masha', 'Sasha']\n"
     ]
    }
   ],
   "source": [
    "#сортировка списка\n",
    "students = [\"Ivan\", \"Masha\", \"Sasha\"]\n",
    "ord_stds = sorted(students) #не изменяет начальный список\n",
    "print(ord_stds)\n",
    "\n",
    "students.sort() \n",
    "print(min(students)) #функции min max дают значения для сравнимых типов - строки со строками, числа с числами\n",
    "\n",
    "#список в обратном порядке\n",
    "students.reverse() #не изменяет начальный список\n",
    "print(students)\n",
    "\n",
    "print(students[::-1])"
   ]
  },
  {
   "cell_type": "code",
   "execution_count": 16,
   "metadata": {
    "collapsed": false
   },
   "outputs": [
    {
     "name": "stdout",
     "output_type": "stream",
     "text": [
      "[42, 'A', 2]\n",
      "[42, 'A', 30]\n"
     ]
    }
   ],
   "source": [
    "#присвоение списков - меняется содержимое списка, на который ссылаются обе переменные\n",
    "a = [1, \"A\", 2]\n",
    "b = a\n",
    "\n",
    "a[0] = 42\n",
    "print(b)\n",
    "\n",
    "b[2] = 30\n",
    "print(a)"
   ]
  },
  {
   "cell_type": "code",
   "execution_count": 17,
   "metadata": {
    "collapsed": false
   },
   "outputs": [
    {
     "name": "stdout",
     "output_type": "stream",
     "text": [
      "[0, 0, 0, 0, 0]\n",
      "[0, 0, 0, 0, 0]\n",
      "[0, 1, 4, 9, 16]\n",
      "1 2 65\n",
      "[1, 2, 65]\n"
     ]
    }
   ],
   "source": [
    "#генерация списков\n",
    "a = [0]*5\n",
    "print(a)\n",
    "\n",
    "a = [0 for i in range(5)] #генерируем список из нолей\n",
    "print(a)\n",
    "\n",
    "a = [i*i for i in range(5)] #генерируем список из квадратов чисел от 0 до 4\n",
    "print(a)\n",
    "\n",
    "a = [int(i) for i in input().split()] #генерируем список из введенной строки \n",
    "print(a)"
   ]
  },
  {
   "cell_type": "code",
   "execution_count": 20,
   "metadata": {
    "collapsed": false
   },
   "outputs": [
    {
     "name": "stdout",
     "output_type": "stream",
     "text": [
      "2 -4 -5 80\n",
      "2\n",
      "2\n",
      "-4\n",
      "-2\n",
      "-5\n",
      "-7\n",
      "80\n",
      "73\n",
      "73\n"
     ]
    }
   ],
   "source": [
    "#задача 3 - сумма элементов списка\n",
    "task3 = [int(i) for i in input().split()] #генерируем список\n",
    "sum = 0 #в эту переменную будем складывать сумму\n",
    "for i in task3 : #пробегаем по всему списку\n",
    "    #print(i)\n",
    "    sum = sum + i #добавляем к сумме каждый из элементов\n",
    "    #print(sum)\n",
    "print(sum)"
   ]
  },
  {
   "cell_type": "code",
   "execution_count": 36,
   "metadata": {
    "collapsed": false
   },
   "outputs": [
    {
     "name": "stdout",
     "output_type": "stream",
     "text": [
      "1 3 8 6 10\n",
      "13 9 9 18 9 "
     ]
    }
   ],
   "source": [
    "#задача 4 - для каждого элемента вывести сумму соседей\n",
    "task4 = [int(i) for i in input().split()]\n",
    "task41 = [] #сюда будем складывать получающийся список\n",
    "for i in range(len(task4)) :\n",
    "    #print(i)\n",
    "    if (len(task4) == 1) : #если список состоит из одного элемента\n",
    "        task41 = task4 #выводим его же\n",
    "    elif (i == (len(task4) - 1)) : #если дошли до конца списка,\n",
    "        task41.append(task4[i-1] + task4[0]) #в качестве второго слагаемого берем первый элемент\n",
    "    else :\n",
    "        task41.append(task4[i-1] + task4[i+1]) #в остальных случаях считаем по формуле\n",
    "    #print(task41)\n",
    "for i in task41 : print(i, end = \" \") #и выводим все в одну строку"
   ]
  },
  {
   "cell_type": "code",
   "execution_count": 2,
   "metadata": {
    "collapsed": false
   },
   "outputs": [
    {
     "name": "stdout",
     "output_type": "stream",
     "text": [
      "1 2 3 4 \n"
     ]
    }
   ],
   "source": [
    "#задача 5 - вывести только повторяющиеся числа в списке\n",
    "task5 = [int(i) for i in input().split()]\n",
    "task5.sort() #сортируем список, чтобы пропускать повторяющиеся значения\n",
    "task51 = [] #сюда будем складывать список из повторяющихся значений\n",
    "i = 0\n",
    "while i < len(task5) : #пробегаем по всем индексам введенного списка\n",
    "    if (task5.count(task5[i]) > 1) : #если количество повторений одного и того же элемента больше 1\n",
    "        task51.append(task5[i]) #складываем этот элемент в новый список\n",
    "        i = i + task5.count(task5[i]) #и переходим к следующему элементу\n",
    "    else: \n",
    "        i += 1 #если совпадений нет, переходим к следующему элементу\n",
    "for j in task51 :\n",
    "    print(j, end = \" \")"
   ]
  },
  {
   "cell_type": "code",
   "execution_count": 10,
   "metadata": {
    "collapsed": false
   },
   "outputs": [
    {
     "name": "stdout",
     "output_type": "stream",
     "text": [
      "[4, 5, 6]\n",
      "5\n",
      "[[5, 0, 0], [5, 0, 0], [5, 0, 0]]\n",
      "[[0, 0, 0], [0, 0, 0], [0, 0, 0]]\n"
     ]
    }
   ],
   "source": [
    "#двумерные списки\n",
    "a = [[1, 2, 3], [4, 5, 6], [7, 8, 9]]\n",
    "print(a[1])\n",
    "print(a[1][1]) #первая цифра - номер строки, вторая - номер столбца\n",
    "\n",
    "#попробуем сгенерировать двумерный список\n",
    "n = 3\n",
    "a = [[0]*n]*n\n",
    "a[0][0] = 5 #внезапно изменяет каждый первый элемент каждого вложенного списка потому что мы генерировали список\n",
    "#как строку, которую скопировали n раз\n",
    "print(a)\n",
    "\n",
    "#настоящий список создается так\n",
    "a = [[0]*n for i in range(n)]\n",
    "a = [[0 for j in range(n)] for i in range(n)]\n",
    "print(a)"
   ]
  }
 ],
 "metadata": {
  "anaconda-cloud": {},
  "kernelspec": {
   "display_name": "Python 3",
   "language": "python",
   "name": "python3"
  },
  "language_info": {
   "codemirror_mode": {
    "name": "ipython",
    "version": 3
   },
   "file_extension": ".py",
   "mimetype": "text/x-python",
   "name": "python",
   "nbconvert_exporter": "python",
   "pygments_lexer": "ipython3",
   "version": "3.6.0"
  }
 },
 "nbformat": 4,
 "nbformat_minor": 0
}
