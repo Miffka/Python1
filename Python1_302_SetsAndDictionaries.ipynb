{
 "cells": [
  {
   "cell_type": "code",
   "execution_count": 17,
   "metadata": {
    "collapsed": false
   },
   "outputs": [
    {
     "name": "stdout",
     "output_type": "stream",
     "text": [
      "{'pear', 'orange', 'banana', 'apple'}\n"
     ]
    },
    {
     "data": {
      "text/plain": [
       "False"
      ]
     },
     "execution_count": 17,
     "metadata": {},
     "output_type": "execute_result"
    }
   ],
   "source": [
    "s = set() #пустое множество\n",
    "basket = {\"apple\", \"orange\", \"apple\", \"pear\", \"orange\", \"banana\"}\n",
    "print(basket) #видим только неповторяющиеся элементы в каком-то странном порядке\n",
    "\"orange\" in basket\n",
    "\"python\" in basket"
   ]
  },
  {
   "cell_type": "code",
   "execution_count": 10,
   "metadata": {
    "collapsed": false
   },
   "outputs": [
    {
     "name": "stdout",
     "output_type": "stream",
     "text": [
      "{'pear', 'orange', 'banana', 'apple', 'element'}\n",
      "{'pear', 'orange', 'banana', 'apple', 'element'}\n"
     ]
    }
   ],
   "source": [
    "#операции с множествами\n",
    "basket.add(\"element\") #добавить элеменнт\n",
    "print(basket)\n",
    "basket.add(\"apple\") #если элемент уже есть во множестве, он не добавляется\n",
    "print(basket)"
   ]
  },
  {
   "cell_type": "code",
   "execution_count": 11,
   "metadata": {
    "collapsed": false
   },
   "outputs": [
    {
     "name": "stdout",
     "output_type": "stream",
     "text": [
      "{'pear', 'orange', 'banana', 'element'}\n"
     ]
    }
   ],
   "source": [
    "basket.remove(\"apple\") #удаление с ошибкой при отсутствии\n",
    "print(basket)"
   ]
  },
  {
   "cell_type": "code",
   "execution_count": 12,
   "metadata": {
    "collapsed": true
   },
   "outputs": [],
   "source": [
    "basket.discard(\"python\") #удаление без ошибки при отсутствии\n",
    "print(basket)"
   ]
  },
  {
   "cell_type": "code",
   "execution_count": 14,
   "metadata": {
    "collapsed": false
   },
   "outputs": [
    {
     "name": "stdout",
     "output_type": "stream",
     "text": [
      "set()\n"
     ]
    }
   ],
   "source": [
    "basket.clear() #очистка множества\n",
    "print(basket)"
   ]
  },
  {
   "cell_type": "code",
   "execution_count": 16,
   "metadata": {
    "collapsed": false
   },
   "outputs": [
    {
     "data": {
      "text/plain": [
       "0"
      ]
     },
     "execution_count": 16,
     "metadata": {},
     "output_type": "execute_result"
    }
   ],
   "source": [
    "len(basket) #узнаем длину множества"
   ]
  },
  {
   "cell_type": "code",
   "execution_count": 18,
   "metadata": {
    "collapsed": false
   },
   "outputs": [
    {
     "name": "stdout",
     "output_type": "stream",
     "text": [
      "pear\n",
      "orange\n",
      "banana\n",
      "apple\n"
     ]
    }
   ],
   "source": [
    "#перебор элементов множества\n",
    "for x in basket:\n",
    "    print(x)"
   ]
  },
  {
   "cell_type": "code",
   "execution_count": 3,
   "metadata": {
    "collapsed": false
   },
   "outputs": [
    {
     "name": "stdout",
     "output_type": "stream",
     "text": [
      "True\n",
      "{'a': 239, 10: 100, 'b': 'yu'}\n",
      "{'a': 100, 10: 100, 'b': 'yu'}\n",
      "{'a': 120, 10: 100, 'b': 'yu'}\n",
      "None\n",
      "{10: 100, 'b': 'yu'}\n"
     ]
    }
   ],
   "source": [
    "#СЛОВАРИ для чего нужны - для того, чтобы связывать два массива по значениям\n",
    "dict, {} #инициализируем пустой словарь\n",
    "d = {\"a\": 239, 10: 100}\n",
    "\n",
    "#проверка наличия ключа в словаре\n",
    "print(\"a\" in d)\n",
    "\n",
    "#добавляем значение по ключу\n",
    "d[\"b\"] = \"yu\"\n",
    "print(d)\n",
    "\n",
    "#заменяем значение по ключу\n",
    "d[\"a\"] = 100\n",
    "print(d)\n",
    "d[\"a\"] += 20\n",
    "print(d)\n",
    "\n",
    "#вызываем значение по ключу, если ключа нет - ошибка\n",
    "#print(d[\"d\"])\n",
    "\n",
    "#вызываем значение по ключу без ошибки\n",
    "print(d.get(\"d\"))\n",
    "\n",
    "#удаляем пару ключ - значение\n",
    "del d[\"a\"]\n",
    "print(d)"
   ]
  },
  {
   "cell_type": "code",
   "execution_count": 34,
   "metadata": {
    "collapsed": false
   },
   "outputs": [
    {
     "data": {
      "text/plain": [
       "'СЛОВАРИ\\n1) изменяемы\\n2) элементы не имеют порядка\\n3) все ключи различны\\n4) ключи неизменяемы (нельзя задать в качестве ключа список или другой словарь)'"
      ]
     },
     "execution_count": 34,
     "metadata": {},
     "output_type": "execute_result"
    }
   ],
   "source": [
    "'''СЛОВАРИ\n",
    "1) изменяемы\n",
    "2) элементы не имеют порядка\n",
    "3) все ключи различны\n",
    "4) ключи неизменяемы (нельзя задать в качестве ключа список или другой словарь)'''"
   ]
  },
  {
   "cell_type": "code",
   "execution_count": 42,
   "metadata": {
    "collapsed": false
   },
   "outputs": [
    {
     "name": "stdout",
     "output_type": "stream",
     "text": [
      "ACGT\n",
      "ACGT\n",
      "12 14 19 9 \n",
      "A 12; C 14; G 19; T 9; \n"
     ]
    }
   ],
   "source": [
    "#перебор элементов словаря\n",
    "\n",
    "d = {\"C\": 14, \"A\": 12, \"T\": 9, \"G\": 19}\n",
    "for key in d:\n",
    "    print(key, end = \"\")\n",
    "print()\n",
    "    \n",
    "for key in d.keys(): #перебираем множество ключей\n",
    "    print(key, end = \"\")\n",
    "print()    \n",
    "\n",
    "for value in d.values(): #перебираем множество значений\n",
    "    print(value, end = \" \")\n",
    "print()\n",
    "\n",
    "for key, value in d.items(): #перебираем множество всех элементов\n",
    "    print(key, value, end = \"; \")\n",
    "print()"
   ]
  },
  {
   "cell_type": "code",
   "execution_count": 48,
   "metadata": {
    "collapsed": false
   },
   "outputs": [
    {
     "name": "stdout",
     "output_type": "stream",
     "text": [
      "{'a': [1, 2]}\n"
     ]
    }
   ],
   "source": [
    "#словари изменяемы - ключу может соответствовать массив значений\n",
    "dd = {\"a\": [1]}\n",
    "dd[\"a\"].append(2)\n",
    "print(dd)"
   ]
  },
  {
   "cell_type": "code",
   "execution_count": 56,
   "metadata": {
    "collapsed": false
   },
   "outputs": [
    {
     "name": "stdout",
     "output_type": "stream",
     "text": [
      "{2: [-1]}\n",
      "{2: [-1, -2]}\n",
      "{2: [-1, -2, -3]}\n"
     ]
    }
   ],
   "source": [
    "#задача 1 - изменение/добавление по ключу\n",
    "def update_dictionary(d, key, value):\n",
    "    if key in d:\n",
    "        d[key].append(value)\n",
    "    elif key*2 in d:\n",
    "        d[key*2].append(value)\n",
    "    elif key*2 not in d:\n",
    "        d[key*2] = [value]\n",
    "d1 = {}\n",
    "update_dictionary(d1, 1, -1)\n",
    "print(d1)\n",
    "\n",
    "update_dictionary(d1, 2, -2)\n",
    "print(d1)\n",
    "\n",
    "update_dictionary(d1, 1, -3)\n",
    "print(d1)"
   ]
  },
  {
   "cell_type": "code",
   "execution_count": 61,
   "metadata": {
    "collapsed": false
   },
   "outputs": [
    {
     "name": "stdout",
     "output_type": "stream",
     "text": [
      "a A a\n",
      "a 3\n"
     ]
    }
   ],
   "source": [
    "#задача 2 - подсчет количества слов\n",
    "task20 = [i.lower() for i in input().split()] #задаем список из введенных слов, приведенных к нижнему регистру\n",
    "task21 = {} #создаем пустой словарь\n",
    "for i in task20: #перебираем значения списка\n",
    "    task21[i] = task20.count(i) #каждому значению списка сопоставляем количество этих значений в списке, создавая словарь\n",
    "for key, value in task21.items():\n",
    "    print(key, value)"
   ]
  },
  {
   "cell_type": "code",
   "execution_count": 63,
   "metadata": {
    "collapsed": false
   },
   "outputs": [
    {
     "name": "stdout",
     "output_type": "stream",
     "text": [
      "5\n",
      "5\n",
      "15625\n",
      "12\n",
      "2985984\n",
      "9\n",
      "531441\n",
      "20\n",
      "64000000\n",
      "12\n",
      "2985984\n"
     ]
    }
   ],
   "source": [
    "#задача 3 - работаем с неизвестной функцией и вводим количество значений и сами значения, и после каждого введенного значения выводим значение функции\n",
    "def f(x): #для простоты определим эту функцию\n",
    "    return x**6\n",
    "\n",
    "n = int(input())\n",
    "task3 = {}\n",
    "for i in range(n):\n",
    "    a = int(input())\n",
    "    if a in task3.keys():\n",
    "        print(task3[a])\n",
    "    else:\n",
    "        task3[a] = f(a)\n",
    "        print(task3[a])"
   ]
  }
 ],
 "metadata": {
  "anaconda-cloud": {},
  "kernelspec": {
   "display_name": "Python 3",
   "language": "python",
   "name": "python3"
  },
  "language_info": {
   "codemirror_mode": {
    "name": "ipython",
    "version": 3
   },
   "file_extension": ".py",
   "mimetype": "text/x-python",
   "name": "python",
   "nbconvert_exporter": "python",
   "pygments_lexer": "ipython3",
   "version": "3.6.0"
  }
 },
 "nbformat": 4,
 "nbformat_minor": 1
}
