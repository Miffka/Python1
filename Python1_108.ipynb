{
 "cells": [
  {
   "cell_type": "code",
   "execution_count": 1,
   "metadata": {
    "collapsed": false
   },
   "outputs": [
    {
     "name": "stdout",
     "output_type": "stream",
     "text": [
      "4\n",
      "2\n",
      "8\n",
      "9\n",
      "18\n",
      "6\n",
      "True\n",
      "7\n"
     ]
    }
   ],
   "source": [
    "a = 2 #имя переменной всегда слева от оператора присваивания\n",
    "b = a\n",
    "print(a+b)\n",
    "a = 6\n",
    "print(b)\n",
    "b = b + a\n",
    "print(b)\n",
    "\n",
    "a += 3\n",
    "print(a)\n",
    "a *= 2\n",
    "print(a)\n",
    "a //= 3\n",
    "print(a)\n",
    "\n",
    "b = True\n",
    "bool(a | b)\n",
    "bool(a & b)\n",
    "print(b)\n",
    "print(a + b)"
   ]
  },
  {
   "cell_type": "code",
   "execution_count": 10,
   "metadata": {
    "collapsed": false
   },
   "outputs": [
    {
     "name": "stdout",
     "output_type": "stream",
     "text": [
      "Input s s\n",
      "Input some integer number 5\n",
      "5 s\n"
     ]
    }
   ],
   "source": [
    "#input(\"Введите данные \")\n",
    "s = input(\"Input s \")\n",
    "a = int(input(\"Input some integer number \"))\n",
    "print(a, s)"
   ]
  },
  {
   "cell_type": "code",
   "execution_count": 2,
   "metadata": {
    "collapsed": true
   },
   "outputs": [],
   "source": [
    "a = 3"
   ]
  },
  {
   "cell_type": "code",
   "execution_count": 3,
   "metadata": {
    "collapsed": false
   },
   "outputs": [
    {
     "data": {
      "text/plain": [
       "3"
      ]
     },
     "execution_count": 3,
     "metadata": {},
     "output_type": "execute_result"
    }
   ],
   "source": [
    "a"
   ]
  },
  {
   "cell_type": "code",
   "execution_count": 5,
   "metadata": {
    "collapsed": false
   },
   "outputs": [
    {
     "data": {
      "text/plain": [
       "11"
      ]
     },
     "execution_count": 5,
     "metadata": {},
     "output_type": "execute_result"
    }
   ],
   "source": [
    "a += 4\n",
    "a"
   ]
  },
  {
   "cell_type": "code",
   "execution_count": 6,
   "metadata": {
    "collapsed": false
   },
   "outputs": [
    {
     "data": {
      "text/plain": [
       "22"
      ]
     },
     "execution_count": 6,
     "metadata": {},
     "output_type": "execute_result"
    }
   ],
   "source": [
    "a\n",
    "2*a"
   ]
  },
  {
   "cell_type": "code",
   "execution_count": 7,
   "metadata": {
    "collapsed": false
   },
   "outputs": [
    {
     "name": "stdout",
     "output_type": "stream",
     "text": [
      "11 22\n"
     ]
    }
   ],
   "source": [
    "print(a, 2*a)"
   ]
  },
  {
   "cell_type": "code",
   "execution_count": 9,
   "metadata": {
    "collapsed": false
   },
   "outputs": [
    {
     "name": "stdout",
     "output_type": "stream",
     "text": [
      "Введи имя goat\n",
      "Hello,  goat !\n"
     ]
    }
   ],
   "source": [
    "#программа будет читать имя и приветствовать его!\n",
    "name = input(\"Введи имя \")\n",
    "print(\"Hello,\", name, \"!\") #аргументы print всегда разделяются пробелом автоматически"
   ]
  },
  {
   "cell_type": "code",
   "execution_count": 10,
   "metadata": {
    "collapsed": false
   },
   "outputs": [
    {
     "name": "stdout",
     "output_type": "stream",
     "text": [
      "Введите число 2\n",
      "4\n"
     ]
    }
   ],
   "source": [
    "number = int(input(\"Введите число \")) #только так можно читать числа\n",
    "print(number*2)"
   ]
  },
  {
   "cell_type": "code",
   "execution_count": 11,
   "metadata": {
    "collapsed": false
   },
   "outputs": [
    {
     "name": "stdout",
     "output_type": "stream",
     "text": [
      "Введите первое число 5\n",
      "Введите второе число 7\n",
      "35\n"
     ]
    }
   ],
   "source": [
    "n1 = int(input(\"Введите первое число \"))\n",
    "n2 = int(input(\"Введите второе число \"))\n",
    "print(n1*n2)"
   ]
  },
  {
   "cell_type": "code",
   "execution_count": 12,
   "metadata": {
    "collapsed": false
   },
   "outputs": [
    {
     "name": "stdout",
     "output_type": "stream",
     "text": [
      "512\n",
      "8\n",
      "32\n"
     ]
    }
   ],
   "source": [
    "#задача про будильник\n",
    "x = int(input())\n",
    "print(x//60)\n",
    "print(x%60)"
   ]
  },
  {
   "cell_type": "code",
   "execution_count": 13,
   "metadata": {
    "collapsed": false
   },
   "outputs": [
    {
     "name": "stdout",
     "output_type": "stream",
     "text": [
      "480\n",
      "1\n",
      "20\n",
      "9\n",
      "20\n"
     ]
    }
   ],
   "source": [
    "#задача про будильник и начальное время\n",
    "x = int(input()) #вводим время сна в минутах\n",
    "h = int(input()) #вводим время засыпания в часах\n",
    "m = int(input()) #вводим время засыпания в минутах\n",
    "print((x+60*h + m)//60) #выводим время будильника в часах\n",
    "print((x+60*h + m)%60) #выводим время будильника в минутах"
   ]
  }
 ],
 "metadata": {
  "kernelspec": {
   "display_name": "Python [conda root]",
   "language": "python",
   "name": "conda-root-py"
  },
  "language_info": {
   "codemirror_mode": {
    "name": "ipython",
    "version": 3.0
   },
   "file_extension": ".py",
   "mimetype": "text/x-python",
   "name": "python",
   "nbconvert_exporter": "python",
   "pygments_lexer": "ipython3",
   "version": "3.5.2"
  }
 },
 "nbformat": 4,
 "nbformat_minor": 0
}