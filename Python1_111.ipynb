{
 "cells": [
  {
   "cell_type": "code",
   "execution_count": 22,
   "metadata": {
    "collapsed": false
   },
   "outputs": [
    {
     "name": "stdout",
     "output_type": "stream",
     "text": [
      "9\n",
      "True\n",
      "True\n",
      "True\n",
      "Line 1 \n",
      "\n",
      " \r",
      "Line 2\n"
     ]
    }
   ],
   "source": [
    "'''multiple lines\n",
    "string with quotes'''\n",
    "\"abc\" + \"def\"*2\n",
    "print(len(\"abc\" + \"def\"*2))\n",
    "print(\"abc\" == 'abc')\n",
    "print(\"abc\" < \"ac\")\n",
    "print(\"abc\" > \"ab\")\n",
    "\n",
    "print(\"Line 1\", \"\\n\\n\", \"\\rLine 2\") #вывод с междустрочием и возвратом каретки"
   ]
  },
  {
   "cell_type": "code",
   "execution_count": 23,
   "metadata": {
    "collapsed": false
   },
   "outputs": [
    {
     "name": "stdout",
     "output_type": "stream",
     "text": [
      "string another string\n",
      "stringanother string\n",
      "string\n",
      "another string\n"
     ]
    }
   ],
   "source": [
    "a = \"string\"\n",
    "b = \"another string\"\n",
    "print(a, b) #вывод с пробелом\n",
    "print(a + b) #вывод без пробела\n",
    "\"\"\"multiline\n",
    "comment\"\"\"\n",
    "print(a + \"\\n\" + b) #вывод на двух разных строках"
   ]
  }
 ],
 "metadata": {
  "kernelspec": {
   "display_name": "Python [conda root]",
   "language": "python",
   "name": "conda-root-py"
  },
  "language_info": {
   "codemirror_mode": {
    "name": "ipython",
    "version": 3
   },
   "file_extension": ".py",
   "mimetype": "text/x-python",
   "name": "python",
   "nbconvert_exporter": "python",
   "pygments_lexer": "ipython3",
   "version": "3.5.2"
  }
 },
 "nbformat": 4,
 "nbformat_minor": 1
}
